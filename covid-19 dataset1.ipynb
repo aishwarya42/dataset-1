{
 "cells": [
  {
   "cell_type": "code",
   "execution_count": 1,
   "metadata": {},
   "outputs": [],
   "source": [
    "import pandas as pd\n",
    "import datetime as datetime\n",
    "import numpy as np\n",
    "import matplotlib.pyplot as plt\n",
    "plt.style.use('ggplot')\n",
    "%matplotlib inline"
   ]
  },
  {
   "cell_type": "code",
   "execution_count": 2,
   "metadata": {},
   "outputs": [],
   "source": [
    "df = pd.read_csv('COVID19_line_list_data.csv')"
   ]
  },
  {
   "cell_type": "code",
   "execution_count": 85,
   "metadata": {},
   "outputs": [],
   "source": [
    "with pd.ExcelWriter('dataset1.xlsx') as writer:  \n",
    "     df.to_excel(writer, sheet_name='Sheet_name_1')"
   ]
  },
  {
   "cell_type": "code",
   "execution_count": 4,
   "metadata": {},
   "outputs": [
    {
     "data": {
      "text/plain": [
       "(1085, 27)"
      ]
     },
     "execution_count": 4,
     "metadata": {},
     "output_type": "execute_result"
    }
   ],
   "source": [
    "df.shape"
   ]
  },
  {
   "cell_type": "markdown",
   "metadata": {},
   "source": [
    "## Data information"
   ]
  },
  {
   "cell_type": "code",
   "execution_count": 5,
   "metadata": {},
   "outputs": [
    {
     "name": "stdout",
     "output_type": "stream",
     "text": [
      "<class 'pandas.core.frame.DataFrame'>\n",
      "RangeIndex: 1085 entries, 0 to 1084\n",
      "Data columns (total 27 columns):\n",
      "id                       1085 non-null int64\n",
      "case_in_country          888 non-null float64\n",
      "reporting date           1084 non-null object\n",
      "Unnamed: 3               0 non-null float64\n",
      "summary                  1080 non-null object\n",
      "location                 1085 non-null object\n",
      "country                  1085 non-null object\n",
      "gender                   902 non-null object\n",
      "age                      843 non-null float64\n",
      "symptom_onset            563 non-null object\n",
      "If_onset_approximated    560 non-null float64\n",
      "hosp_visit_date          507 non-null object\n",
      "exposure_start           128 non-null object\n",
      "exposure_end             341 non-null object\n",
      "visiting Wuhan           1085 non-null int64\n",
      "from Wuhan               1081 non-null float64\n",
      "death                    1085 non-null object\n",
      "recovered                1085 non-null object\n",
      "symptom                  270 non-null object\n",
      "source                   1085 non-null object\n",
      "link                     1085 non-null object\n",
      "Unnamed: 21              0 non-null float64\n",
      "Unnamed: 22              0 non-null float64\n",
      "Unnamed: 23              0 non-null float64\n",
      "Unnamed: 24              0 non-null float64\n",
      "Unnamed: 25              0 non-null float64\n",
      "Unnamed: 26              0 non-null float64\n",
      "dtypes: float64(11), int64(2), object(14)\n",
      "memory usage: 229.0+ KB\n"
     ]
    }
   ],
   "source": [
    "df.info()"
   ]
  },
  {
   "cell_type": "markdown",
   "metadata": {},
   "source": [
    "## Removing all the unnamed columns "
   ]
  },
  {
   "cell_type": "code",
   "execution_count": 6,
   "metadata": {},
   "outputs": [],
   "source": [
    "\n",
    "df.drop(df.columns[df.columns.str.contains('unnamed',case = False)],axis = 1, inplace=True)"
   ]
  },
  {
   "cell_type": "code",
   "execution_count": 7,
   "metadata": {},
   "outputs": [
    {
     "data": {
      "text/html": [
       "<div>\n",
       "<style scoped>\n",
       "    .dataframe tbody tr th:only-of-type {\n",
       "        vertical-align: middle;\n",
       "    }\n",
       "\n",
       "    .dataframe tbody tr th {\n",
       "        vertical-align: top;\n",
       "    }\n",
       "\n",
       "    .dataframe thead th {\n",
       "        text-align: right;\n",
       "    }\n",
       "</style>\n",
       "<table border=\"1\" class=\"dataframe\">\n",
       "  <thead>\n",
       "    <tr style=\"text-align: right;\">\n",
       "      <th></th>\n",
       "      <th>id</th>\n",
       "      <th>case_in_country</th>\n",
       "      <th>age</th>\n",
       "      <th>If_onset_approximated</th>\n",
       "      <th>visiting Wuhan</th>\n",
       "      <th>from Wuhan</th>\n",
       "    </tr>\n",
       "  </thead>\n",
       "  <tbody>\n",
       "    <tr>\n",
       "      <th>count</th>\n",
       "      <td>1085.000000</td>\n",
       "      <td>888.000000</td>\n",
       "      <td>843.000000</td>\n",
       "      <td>560.000000</td>\n",
       "      <td>1085.000000</td>\n",
       "      <td>1081.000000</td>\n",
       "    </tr>\n",
       "    <tr>\n",
       "      <th>mean</th>\n",
       "      <td>543.000000</td>\n",
       "      <td>48.841216</td>\n",
       "      <td>49.483689</td>\n",
       "      <td>0.042857</td>\n",
       "      <td>0.176959</td>\n",
       "      <td>0.144311</td>\n",
       "    </tr>\n",
       "    <tr>\n",
       "      <th>std</th>\n",
       "      <td>313.356825</td>\n",
       "      <td>78.853528</td>\n",
       "      <td>18.255334</td>\n",
       "      <td>0.202716</td>\n",
       "      <td>0.381810</td>\n",
       "      <td>0.351567</td>\n",
       "    </tr>\n",
       "    <tr>\n",
       "      <th>min</th>\n",
       "      <td>1.000000</td>\n",
       "      <td>1.000000</td>\n",
       "      <td>0.250000</td>\n",
       "      <td>0.000000</td>\n",
       "      <td>0.000000</td>\n",
       "      <td>0.000000</td>\n",
       "    </tr>\n",
       "    <tr>\n",
       "      <th>25%</th>\n",
       "      <td>272.000000</td>\n",
       "      <td>11.000000</td>\n",
       "      <td>35.000000</td>\n",
       "      <td>0.000000</td>\n",
       "      <td>0.000000</td>\n",
       "      <td>0.000000</td>\n",
       "    </tr>\n",
       "    <tr>\n",
       "      <th>50%</th>\n",
       "      <td>543.000000</td>\n",
       "      <td>28.000000</td>\n",
       "      <td>51.000000</td>\n",
       "      <td>0.000000</td>\n",
       "      <td>0.000000</td>\n",
       "      <td>0.000000</td>\n",
       "    </tr>\n",
       "    <tr>\n",
       "      <th>75%</th>\n",
       "      <td>814.000000</td>\n",
       "      <td>67.250000</td>\n",
       "      <td>64.000000</td>\n",
       "      <td>0.000000</td>\n",
       "      <td>0.000000</td>\n",
       "      <td>0.000000</td>\n",
       "    </tr>\n",
       "    <tr>\n",
       "      <th>max</th>\n",
       "      <td>1085.000000</td>\n",
       "      <td>1443.000000</td>\n",
       "      <td>96.000000</td>\n",
       "      <td>1.000000</td>\n",
       "      <td>1.000000</td>\n",
       "      <td>1.000000</td>\n",
       "    </tr>\n",
       "  </tbody>\n",
       "</table>\n",
       "</div>"
      ],
      "text/plain": [
       "                id  case_in_country         age  If_onset_approximated  \\\n",
       "count  1085.000000       888.000000  843.000000             560.000000   \n",
       "mean    543.000000        48.841216   49.483689               0.042857   \n",
       "std     313.356825        78.853528   18.255334               0.202716   \n",
       "min       1.000000         1.000000    0.250000               0.000000   \n",
       "25%     272.000000        11.000000   35.000000               0.000000   \n",
       "50%     543.000000        28.000000   51.000000               0.000000   \n",
       "75%     814.000000        67.250000   64.000000               0.000000   \n",
       "max    1085.000000      1443.000000   96.000000               1.000000   \n",
       "\n",
       "       visiting Wuhan   from Wuhan  \n",
       "count     1085.000000  1081.000000  \n",
       "mean         0.176959     0.144311  \n",
       "std          0.381810     0.351567  \n",
       "min          0.000000     0.000000  \n",
       "25%          0.000000     0.000000  \n",
       "50%          0.000000     0.000000  \n",
       "75%          0.000000     0.000000  \n",
       "max          1.000000     1.000000  "
      ]
     },
     "execution_count": 7,
     "metadata": {},
     "output_type": "execute_result"
    }
   ],
   "source": [
    "df.describe()"
   ]
  },
  {
   "cell_type": "markdown",
   "metadata": {},
   "source": [
    "## Removing all the rows having all null values"
   ]
  },
  {
   "cell_type": "code",
   "execution_count": 8,
   "metadata": {
    "scrolled": true
   },
   "outputs": [
    {
     "data": {
      "text/html": [
       "<div>\n",
       "<style scoped>\n",
       "    .dataframe tbody tr th:only-of-type {\n",
       "        vertical-align: middle;\n",
       "    }\n",
       "\n",
       "    .dataframe tbody tr th {\n",
       "        vertical-align: top;\n",
       "    }\n",
       "\n",
       "    .dataframe thead th {\n",
       "        text-align: right;\n",
       "    }\n",
       "</style>\n",
       "<table border=\"1\" class=\"dataframe\">\n",
       "  <thead>\n",
       "    <tr style=\"text-align: right;\">\n",
       "      <th></th>\n",
       "      <th>id</th>\n",
       "      <th>case_in_country</th>\n",
       "      <th>reporting date</th>\n",
       "      <th>summary</th>\n",
       "      <th>location</th>\n",
       "      <th>country</th>\n",
       "      <th>gender</th>\n",
       "      <th>age</th>\n",
       "      <th>symptom_onset</th>\n",
       "      <th>If_onset_approximated</th>\n",
       "      <th>hosp_visit_date</th>\n",
       "      <th>exposure_start</th>\n",
       "      <th>exposure_end</th>\n",
       "      <th>visiting Wuhan</th>\n",
       "      <th>from Wuhan</th>\n",
       "      <th>death</th>\n",
       "      <th>recovered</th>\n",
       "      <th>symptom</th>\n",
       "      <th>source</th>\n",
       "      <th>link</th>\n",
       "    </tr>\n",
       "  </thead>\n",
       "  <tbody>\n",
       "    <tr>\n",
       "      <th>0</th>\n",
       "      <td>1</td>\n",
       "      <td>NaN</td>\n",
       "      <td>1/20/2020</td>\n",
       "      <td>First confirmed imported COVID-19 pneumonia pa...</td>\n",
       "      <td>Shenzhen, Guangdong</td>\n",
       "      <td>China</td>\n",
       "      <td>male</td>\n",
       "      <td>66.0</td>\n",
       "      <td>01/03/20</td>\n",
       "      <td>0.0</td>\n",
       "      <td>01/11/20</td>\n",
       "      <td>12/29/2019</td>\n",
       "      <td>01/04/20</td>\n",
       "      <td>1</td>\n",
       "      <td>0.0</td>\n",
       "      <td>0</td>\n",
       "      <td>0</td>\n",
       "      <td>NaN</td>\n",
       "      <td>Shenzhen Municipal Health Commission</td>\n",
       "      <td>http://wjw.sz.gov.cn/wzx/202001/t20200120_1898...</td>\n",
       "    </tr>\n",
       "    <tr>\n",
       "      <th>1</th>\n",
       "      <td>2</td>\n",
       "      <td>NaN</td>\n",
       "      <td>1/20/2020</td>\n",
       "      <td>First confirmed imported COVID-19 pneumonia pa...</td>\n",
       "      <td>Shanghai</td>\n",
       "      <td>China</td>\n",
       "      <td>female</td>\n",
       "      <td>56.0</td>\n",
       "      <td>1/15/2020</td>\n",
       "      <td>0.0</td>\n",
       "      <td>1/15/2020</td>\n",
       "      <td>NaN</td>\n",
       "      <td>01/12/20</td>\n",
       "      <td>0</td>\n",
       "      <td>1.0</td>\n",
       "      <td>0</td>\n",
       "      <td>0</td>\n",
       "      <td>NaN</td>\n",
       "      <td>Official Weibo of Shanghai Municipal Health Co...</td>\n",
       "      <td>https://www.weibo.com/2372649470/IqogQhgfa?fro...</td>\n",
       "    </tr>\n",
       "    <tr>\n",
       "      <th>2</th>\n",
       "      <td>3</td>\n",
       "      <td>NaN</td>\n",
       "      <td>1/21/2020</td>\n",
       "      <td>First confirmed imported cases in Zhejiang: pa...</td>\n",
       "      <td>Zhejiang</td>\n",
       "      <td>China</td>\n",
       "      <td>male</td>\n",
       "      <td>46.0</td>\n",
       "      <td>01/04/20</td>\n",
       "      <td>0.0</td>\n",
       "      <td>1/17/2020</td>\n",
       "      <td>NaN</td>\n",
       "      <td>01/03/20</td>\n",
       "      <td>0</td>\n",
       "      <td>1.0</td>\n",
       "      <td>0</td>\n",
       "      <td>0</td>\n",
       "      <td>NaN</td>\n",
       "      <td>Health Commission of Zhejiang Province</td>\n",
       "      <td>http://www.zjwjw.gov.cn/art/2020/1/21/art_1202...</td>\n",
       "    </tr>\n",
       "    <tr>\n",
       "      <th>3</th>\n",
       "      <td>4</td>\n",
       "      <td>NaN</td>\n",
       "      <td>1/21/2020</td>\n",
       "      <td>new confirmed imported COVID-19 pneumonia in T...</td>\n",
       "      <td>Tianjin</td>\n",
       "      <td>China</td>\n",
       "      <td>female</td>\n",
       "      <td>60.0</td>\n",
       "      <td>NaN</td>\n",
       "      <td>NaN</td>\n",
       "      <td>1/19/2020</td>\n",
       "      <td>NaN</td>\n",
       "      <td>NaN</td>\n",
       "      <td>1</td>\n",
       "      <td>0.0</td>\n",
       "      <td>0</td>\n",
       "      <td>0</td>\n",
       "      <td>NaN</td>\n",
       "      <td>人民日报官方微博</td>\n",
       "      <td>https://m.weibo.cn/status/4463235401268457?</td>\n",
       "    </tr>\n",
       "    <tr>\n",
       "      <th>4</th>\n",
       "      <td>5</td>\n",
       "      <td>NaN</td>\n",
       "      <td>1/21/2020</td>\n",
       "      <td>new confirmed imported COVID-19 pneumonia in T...</td>\n",
       "      <td>Tianjin</td>\n",
       "      <td>China</td>\n",
       "      <td>male</td>\n",
       "      <td>58.0</td>\n",
       "      <td>NaN</td>\n",
       "      <td>NaN</td>\n",
       "      <td>1/14/2020</td>\n",
       "      <td>NaN</td>\n",
       "      <td>NaN</td>\n",
       "      <td>0</td>\n",
       "      <td>0.0</td>\n",
       "      <td>0</td>\n",
       "      <td>0</td>\n",
       "      <td>NaN</td>\n",
       "      <td>人民日报官方微博</td>\n",
       "      <td>https://m.weibo.cn/status/4463235401268457?</td>\n",
       "    </tr>\n",
       "    <tr>\n",
       "      <th>...</th>\n",
       "      <td>...</td>\n",
       "      <td>...</td>\n",
       "      <td>...</td>\n",
       "      <td>...</td>\n",
       "      <td>...</td>\n",
       "      <td>...</td>\n",
       "      <td>...</td>\n",
       "      <td>...</td>\n",
       "      <td>...</td>\n",
       "      <td>...</td>\n",
       "      <td>...</td>\n",
       "      <td>...</td>\n",
       "      <td>...</td>\n",
       "      <td>...</td>\n",
       "      <td>...</td>\n",
       "      <td>...</td>\n",
       "      <td>...</td>\n",
       "      <td>...</td>\n",
       "      <td>...</td>\n",
       "      <td>...</td>\n",
       "    </tr>\n",
       "    <tr>\n",
       "      <th>1080</th>\n",
       "      <td>1081</td>\n",
       "      <td>2.0</td>\n",
       "      <td>2/25/2020</td>\n",
       "      <td>new COVID-19 patient confirmed in Austria: 24,...</td>\n",
       "      <td>Innsbruck</td>\n",
       "      <td>Austria</td>\n",
       "      <td>NaN</td>\n",
       "      <td>24.0</td>\n",
       "      <td>NaN</td>\n",
       "      <td>NaN</td>\n",
       "      <td>NaN</td>\n",
       "      <td>NaN</td>\n",
       "      <td>NaN</td>\n",
       "      <td>0</td>\n",
       "      <td>0.0</td>\n",
       "      <td>0</td>\n",
       "      <td>0</td>\n",
       "      <td>NaN</td>\n",
       "      <td>Jakarta Post</td>\n",
       "      <td>https://www.thejakartapost.com/news/2020/02/25...</td>\n",
       "    </tr>\n",
       "    <tr>\n",
       "      <th>1081</th>\n",
       "      <td>1082</td>\n",
       "      <td>1.0</td>\n",
       "      <td>2/24/2020</td>\n",
       "      <td>new COVID-19 patient confirmed in Afghanistan:...</td>\n",
       "      <td>Afghanistan</td>\n",
       "      <td>Afghanistan</td>\n",
       "      <td>NaN</td>\n",
       "      <td>35.0</td>\n",
       "      <td>NaN</td>\n",
       "      <td>NaN</td>\n",
       "      <td>NaN</td>\n",
       "      <td>NaN</td>\n",
       "      <td>NaN</td>\n",
       "      <td>0</td>\n",
       "      <td>0.0</td>\n",
       "      <td>0</td>\n",
       "      <td>0</td>\n",
       "      <td>NaN</td>\n",
       "      <td>Fox News</td>\n",
       "      <td>https://www.foxnews.com/health/afghanistan-fir...</td>\n",
       "    </tr>\n",
       "    <tr>\n",
       "      <th>1082</th>\n",
       "      <td>1083</td>\n",
       "      <td>1.0</td>\n",
       "      <td>2/26/2020</td>\n",
       "      <td>new COVID-19 patient confirmed in Algeria: mal...</td>\n",
       "      <td>Algeria</td>\n",
       "      <td>Algeria</td>\n",
       "      <td>male</td>\n",
       "      <td>NaN</td>\n",
       "      <td>NaN</td>\n",
       "      <td>NaN</td>\n",
       "      <td>NaN</td>\n",
       "      <td>NaN</td>\n",
       "      <td>2/17/2020</td>\n",
       "      <td>0</td>\n",
       "      <td>0.0</td>\n",
       "      <td>0</td>\n",
       "      <td>0</td>\n",
       "      <td>NaN</td>\n",
       "      <td>South China Morning Post</td>\n",
       "      <td>https://www.scmp.com/news/china/society/articl...</td>\n",
       "    </tr>\n",
       "    <tr>\n",
       "      <th>1083</th>\n",
       "      <td>1084</td>\n",
       "      <td>1.0</td>\n",
       "      <td>2/25/2020</td>\n",
       "      <td>new COVID-19 patient confirmed in Croatia: mal...</td>\n",
       "      <td>Croatia</td>\n",
       "      <td>Croatia</td>\n",
       "      <td>male</td>\n",
       "      <td>NaN</td>\n",
       "      <td>NaN</td>\n",
       "      <td>NaN</td>\n",
       "      <td>NaN</td>\n",
       "      <td>2/19/2020</td>\n",
       "      <td>2/21/2020</td>\n",
       "      <td>0</td>\n",
       "      <td>0.0</td>\n",
       "      <td>0</td>\n",
       "      <td>0</td>\n",
       "      <td>NaN</td>\n",
       "      <td>Reuters</td>\n",
       "      <td>https://www.reuters.com/article/us-croatia-cor...</td>\n",
       "    </tr>\n",
       "    <tr>\n",
       "      <th>1084</th>\n",
       "      <td>1085</td>\n",
       "      <td>1.0</td>\n",
       "      <td>2/25/2020</td>\n",
       "      <td>new COVID-19 patient confirmed in Switzerland:...</td>\n",
       "      <td>Bern</td>\n",
       "      <td>Switzerland</td>\n",
       "      <td>male</td>\n",
       "      <td>70.0</td>\n",
       "      <td>2/17/2020</td>\n",
       "      <td>NaN</td>\n",
       "      <td>NaN</td>\n",
       "      <td>2/15/2020</td>\n",
       "      <td>2/15/2020</td>\n",
       "      <td>0</td>\n",
       "      <td>0.0</td>\n",
       "      <td>0</td>\n",
       "      <td>0</td>\n",
       "      <td>NaN</td>\n",
       "      <td>Reuters</td>\n",
       "      <td>https://www.reuters.com/article/uk-switzerland...</td>\n",
       "    </tr>\n",
       "  </tbody>\n",
       "</table>\n",
       "<p>1085 rows × 20 columns</p>\n",
       "</div>"
      ],
      "text/plain": [
       "        id  case_in_country reporting date  \\\n",
       "0        1              NaN      1/20/2020   \n",
       "1        2              NaN      1/20/2020   \n",
       "2        3              NaN      1/21/2020   \n",
       "3        4              NaN      1/21/2020   \n",
       "4        5              NaN      1/21/2020   \n",
       "...    ...              ...            ...   \n",
       "1080  1081              2.0      2/25/2020   \n",
       "1081  1082              1.0      2/24/2020   \n",
       "1082  1083              1.0      2/26/2020   \n",
       "1083  1084              1.0      2/25/2020   \n",
       "1084  1085              1.0      2/25/2020   \n",
       "\n",
       "                                                summary             location  \\\n",
       "0     First confirmed imported COVID-19 pneumonia pa...  Shenzhen, Guangdong   \n",
       "1     First confirmed imported COVID-19 pneumonia pa...             Shanghai   \n",
       "2     First confirmed imported cases in Zhejiang: pa...             Zhejiang   \n",
       "3     new confirmed imported COVID-19 pneumonia in T...              Tianjin   \n",
       "4     new confirmed imported COVID-19 pneumonia in T...              Tianjin   \n",
       "...                                                 ...                  ...   \n",
       "1080  new COVID-19 patient confirmed in Austria: 24,...            Innsbruck   \n",
       "1081  new COVID-19 patient confirmed in Afghanistan:...          Afghanistan   \n",
       "1082  new COVID-19 patient confirmed in Algeria: mal...              Algeria   \n",
       "1083  new COVID-19 patient confirmed in Croatia: mal...              Croatia   \n",
       "1084  new COVID-19 patient confirmed in Switzerland:...                 Bern   \n",
       "\n",
       "          country  gender   age symptom_onset  If_onset_approximated  \\\n",
       "0           China    male  66.0      01/03/20                    0.0   \n",
       "1           China  female  56.0     1/15/2020                    0.0   \n",
       "2           China    male  46.0      01/04/20                    0.0   \n",
       "3           China  female  60.0           NaN                    NaN   \n",
       "4           China    male  58.0           NaN                    NaN   \n",
       "...           ...     ...   ...           ...                    ...   \n",
       "1080      Austria     NaN  24.0           NaN                    NaN   \n",
       "1081  Afghanistan     NaN  35.0           NaN                    NaN   \n",
       "1082      Algeria    male   NaN           NaN                    NaN   \n",
       "1083      Croatia    male   NaN           NaN                    NaN   \n",
       "1084  Switzerland    male  70.0     2/17/2020                    NaN   \n",
       "\n",
       "     hosp_visit_date exposure_start exposure_end  visiting Wuhan  from Wuhan  \\\n",
       "0           01/11/20     12/29/2019     01/04/20               1         0.0   \n",
       "1          1/15/2020            NaN     01/12/20               0         1.0   \n",
       "2          1/17/2020            NaN     01/03/20               0         1.0   \n",
       "3          1/19/2020            NaN          NaN               1         0.0   \n",
       "4          1/14/2020            NaN          NaN               0         0.0   \n",
       "...              ...            ...          ...             ...         ...   \n",
       "1080             NaN            NaN          NaN               0         0.0   \n",
       "1081             NaN            NaN          NaN               0         0.0   \n",
       "1082             NaN            NaN    2/17/2020               0         0.0   \n",
       "1083             NaN      2/19/2020    2/21/2020               0         0.0   \n",
       "1084             NaN      2/15/2020    2/15/2020               0         0.0   \n",
       "\n",
       "     death recovered symptom  \\\n",
       "0        0         0     NaN   \n",
       "1        0         0     NaN   \n",
       "2        0         0     NaN   \n",
       "3        0         0     NaN   \n",
       "4        0         0     NaN   \n",
       "...    ...       ...     ...   \n",
       "1080     0         0     NaN   \n",
       "1081     0         0     NaN   \n",
       "1082     0         0     NaN   \n",
       "1083     0         0     NaN   \n",
       "1084     0         0     NaN   \n",
       "\n",
       "                                                 source  \\\n",
       "0                  Shenzhen Municipal Health Commission   \n",
       "1     Official Weibo of Shanghai Municipal Health Co...   \n",
       "2                Health Commission of Zhejiang Province   \n",
       "3                                              人民日报官方微博   \n",
       "4                                              人民日报官方微博   \n",
       "...                                                 ...   \n",
       "1080                                       Jakarta Post   \n",
       "1081                                           Fox News   \n",
       "1082                           South China Morning Post   \n",
       "1083                                            Reuters   \n",
       "1084                                            Reuters   \n",
       "\n",
       "                                                   link  \n",
       "0     http://wjw.sz.gov.cn/wzx/202001/t20200120_1898...  \n",
       "1     https://www.weibo.com/2372649470/IqogQhgfa?fro...  \n",
       "2     http://www.zjwjw.gov.cn/art/2020/1/21/art_1202...  \n",
       "3           https://m.weibo.cn/status/4463235401268457?  \n",
       "4           https://m.weibo.cn/status/4463235401268457?  \n",
       "...                                                 ...  \n",
       "1080  https://www.thejakartapost.com/news/2020/02/25...  \n",
       "1081  https://www.foxnews.com/health/afghanistan-fir...  \n",
       "1082  https://www.scmp.com/news/china/society/articl...  \n",
       "1083  https://www.reuters.com/article/us-croatia-cor...  \n",
       "1084  https://www.reuters.com/article/uk-switzerland...  \n",
       "\n",
       "[1085 rows x 20 columns]"
      ]
     },
     "execution_count": 8,
     "metadata": {},
     "output_type": "execute_result"
    }
   ],
   "source": [
    "df.dropna(how='all')"
   ]
  },
  {
   "cell_type": "markdown",
   "metadata": {},
   "source": [
    "## Cleaning 'case_in_country' column"
   ]
  },
  {
   "cell_type": "code",
   "execution_count": 9,
   "metadata": {
    "scrolled": true
   },
   "outputs": [
    {
     "data": {
      "text/plain": [
       "NaN      197\n",
       "1.0       37\n",
       "2.0       24\n",
       "3.0       22\n",
       "6.0       19\n",
       "        ... \n",
       "147.0      1\n",
       "141.0      1\n",
       "135.0      1\n",
       "129.0      1\n",
       "136.0      1\n",
       "Name: case_in_country, Length: 198, dtype: int64"
      ]
     },
     "execution_count": 9,
     "metadata": {},
     "output_type": "execute_result"
    }
   ],
   "source": [
    "df['case_in_country'].value_counts(dropna=False)\n"
   ]
  },
  {
   "cell_type": "markdown",
   "metadata": {},
   "source": [
    "## Dropping all na values"
   ]
  },
  {
   "cell_type": "code",
   "execution_count": 10,
   "metadata": {},
   "outputs": [],
   "source": [
    "df.dropna(subset=['case_in_country'],inplace=True)"
   ]
  },
  {
   "cell_type": "markdown",
   "metadata": {},
   "source": [
    "## Cleaning 'reporting date ' column"
   ]
  },
  {
   "cell_type": "code",
   "execution_count": 11,
   "metadata": {
    "scrolled": true
   },
   "outputs": [
    {
     "data": {
      "text/plain": [
       "2/27/2020    91\n",
       "2/20/2020    73\n",
       "2/26/2020    54\n",
       "2/25/2020    46\n",
       "2/19/2020    42\n",
       "2/21/2020    35\n",
       "2/24/2020    33\n",
       "2/22/2020    31\n",
       "1/31/2020    28\n",
       "02/08/20     26\n",
       "2/23/2020    26\n",
       "2/28/2020    25\n",
       "02/04/20     24\n",
       "02/06/20     24\n",
       "1/30/2020    23\n",
       "02/05/20     22\n",
       "2/14/2020    21\n",
       "1/29/2020    20\n",
       "02/09/20     19\n",
       "02/10/20     19\n",
       "1/28/2020    18\n",
       "2/13/2020    18\n",
       "2/16/2020    16\n",
       "2/17/2020    14\n",
       "2/15/2020    13\n",
       "1/25/2020    13\n",
       "1/24/2020    13\n",
       "2/18/2020    13\n",
       "02/11/20     13\n",
       "02/01/20     12\n",
       "02/02/20     10\n",
       "1/26/2020     9\n",
       "1/27/2020     9\n",
       "02/07/20      8\n",
       "02/03/20      7\n",
       "02/12/20      6\n",
       "1/22/2020     5\n",
       "1/21/2020     2\n",
       "1/23/2020     2\n",
       "1/15/2020     1\n",
       "1/20/2020     1\n",
       "1/13/2020     1\n",
       "1/17/2020     1\n",
       "NaN           1\n",
       "Name: reporting date, dtype: int64"
      ]
     },
     "execution_count": 11,
     "metadata": {},
     "output_type": "execute_result"
    }
   ],
   "source": [
    "df['reporting date'].value_counts(dropna=False)"
   ]
  },
  {
   "cell_type": "code",
   "execution_count": null,
   "metadata": {
    "scrolled": true
   },
   "outputs": [],
   "source": []
  },
  {
   "cell_type": "code",
   "execution_count": 12,
   "metadata": {},
   "outputs": [
    {
     "data": {
      "text/plain": [
       "197    2020-01-25\n",
       "198    2020-01-25\n",
       "199    2020-01-25\n",
       "200    2020-01-28\n",
       "201    2020-01-29\n",
       "          ...    \n",
       "1080   2020-02-25\n",
       "1081   2020-02-24\n",
       "1082   2020-02-26\n",
       "1083   2020-02-25\n",
       "1084   2020-02-25\n",
       "Name: reporting date, Length: 888, dtype: datetime64[ns]"
      ]
     },
     "execution_count": 12,
     "metadata": {},
     "output_type": "execute_result"
    }
   ],
   "source": [
    "pd.to_datetime(df['reporting date'].astype(str), format='%m/%d/%Y',errors='coerce')"
   ]
  },
  {
   "cell_type": "code",
   "execution_count": 13,
   "metadata": {},
   "outputs": [
    {
     "data": {
      "text/plain": [
       "1"
      ]
     },
     "execution_count": 13,
     "metadata": {},
     "output_type": "execute_result"
    }
   ],
   "source": [
    "df['reporting date'].isnull().sum()"
   ]
  },
  {
   "cell_type": "code",
   "execution_count": 14,
   "metadata": {},
   "outputs": [],
   "source": [
    "df.dropna(subset=['reporting date'],inplace=True)"
   ]
  },
  {
   "cell_type": "code",
   "execution_count": 15,
   "metadata": {},
   "outputs": [
    {
     "data": {
      "text/html": [
       "<div>\n",
       "<style scoped>\n",
       "    .dataframe tbody tr th:only-of-type {\n",
       "        vertical-align: middle;\n",
       "    }\n",
       "\n",
       "    .dataframe tbody tr th {\n",
       "        vertical-align: top;\n",
       "    }\n",
       "\n",
       "    .dataframe thead th {\n",
       "        text-align: right;\n",
       "    }\n",
       "</style>\n",
       "<table border=\"1\" class=\"dataframe\">\n",
       "  <thead>\n",
       "    <tr style=\"text-align: right;\">\n",
       "      <th></th>\n",
       "      <th>id</th>\n",
       "      <th>case_in_country</th>\n",
       "      <th>reporting date</th>\n",
       "      <th>summary</th>\n",
       "      <th>location</th>\n",
       "      <th>country</th>\n",
       "      <th>gender</th>\n",
       "      <th>age</th>\n",
       "      <th>symptom_onset</th>\n",
       "      <th>If_onset_approximated</th>\n",
       "      <th>hosp_visit_date</th>\n",
       "      <th>exposure_start</th>\n",
       "      <th>exposure_end</th>\n",
       "      <th>visiting Wuhan</th>\n",
       "      <th>from Wuhan</th>\n",
       "      <th>death</th>\n",
       "      <th>recovered</th>\n",
       "      <th>symptom</th>\n",
       "      <th>source</th>\n",
       "      <th>link</th>\n",
       "    </tr>\n",
       "  </thead>\n",
       "  <tbody>\n",
       "    <tr>\n",
       "      <th>197</th>\n",
       "      <td>198</td>\n",
       "      <td>1.0</td>\n",
       "      <td>1/25/2020</td>\n",
       "      <td>new confirmed COVID-19 patient in Bordeaux, Fr...</td>\n",
       "      <td>Bordeaux</td>\n",
       "      <td>France</td>\n",
       "      <td>male</td>\n",
       "      <td>48.0</td>\n",
       "      <td>1/23/2020</td>\n",
       "      <td>0.0</td>\n",
       "      <td>1/23/2020</td>\n",
       "      <td>NaN</td>\n",
       "      <td>1/22/2020</td>\n",
       "      <td>1</td>\n",
       "      <td>0.0</td>\n",
       "      <td>0</td>\n",
       "      <td>0</td>\n",
       "      <td>NaN</td>\n",
       "      <td>CNBC</td>\n",
       "      <td>https://www.cnbc.com/2020/01/25/reuters-americ...</td>\n",
       "    </tr>\n",
       "    <tr>\n",
       "      <th>198</th>\n",
       "      <td>199</td>\n",
       "      <td>2.0</td>\n",
       "      <td>1/25/2020</td>\n",
       "      <td>new confirmed COVID-19 patient in Paris, Franc...</td>\n",
       "      <td>Paris</td>\n",
       "      <td>France</td>\n",
       "      <td>male</td>\n",
       "      <td>31.0</td>\n",
       "      <td>1/19/2020</td>\n",
       "      <td>0.0</td>\n",
       "      <td>1/25/2020</td>\n",
       "      <td>NaN</td>\n",
       "      <td>1/18/2020</td>\n",
       "      <td>0</td>\n",
       "      <td>1.0</td>\n",
       "      <td>0</td>\n",
       "      <td>02/12/20</td>\n",
       "      <td>NaN</td>\n",
       "      <td>CGTN</td>\n",
       "      <td>https://newseu.cgtn.com/news/2020-01-26/Corona...</td>\n",
       "    </tr>\n",
       "    <tr>\n",
       "      <th>199</th>\n",
       "      <td>200</td>\n",
       "      <td>3.0</td>\n",
       "      <td>1/25/2020</td>\n",
       "      <td>new confirmed COVID-19 patient in Paris, Franc...</td>\n",
       "      <td>Paris</td>\n",
       "      <td>France</td>\n",
       "      <td>female</td>\n",
       "      <td>30.0</td>\n",
       "      <td>1/23/2020</td>\n",
       "      <td>0.0</td>\n",
       "      <td>1/25/2020</td>\n",
       "      <td>NaN</td>\n",
       "      <td>1/19/2020</td>\n",
       "      <td>0</td>\n",
       "      <td>1.0</td>\n",
       "      <td>0</td>\n",
       "      <td>02/12/20</td>\n",
       "      <td>NaN</td>\n",
       "      <td>CGTN</td>\n",
       "      <td>https://newseu.cgtn.com/news/2020-01-26/Corona...</td>\n",
       "    </tr>\n",
       "    <tr>\n",
       "      <th>200</th>\n",
       "      <td>201</td>\n",
       "      <td>4.0</td>\n",
       "      <td>1/28/2020</td>\n",
       "      <td>new confirmed COVID-19 patient in Paris, Franc...</td>\n",
       "      <td>Paris</td>\n",
       "      <td>France</td>\n",
       "      <td>male</td>\n",
       "      <td>80.0</td>\n",
       "      <td>1/25/2020</td>\n",
       "      <td>1.0</td>\n",
       "      <td>1/25/2020</td>\n",
       "      <td>NaN</td>\n",
       "      <td>1/23/2020</td>\n",
       "      <td>0</td>\n",
       "      <td>1.0</td>\n",
       "      <td>2/14/2020</td>\n",
       "      <td>0</td>\n",
       "      <td>NaN</td>\n",
       "      <td>The Local</td>\n",
       "      <td>https://www.thelocal.de/20200128/number-of-ger...</td>\n",
       "    </tr>\n",
       "    <tr>\n",
       "      <th>201</th>\n",
       "      <td>202</td>\n",
       "      <td>5.0</td>\n",
       "      <td>1/29/2020</td>\n",
       "      <td>new confirmed COVID-19 patient in Paris, Franc...</td>\n",
       "      <td>Paris</td>\n",
       "      <td>France</td>\n",
       "      <td>female</td>\n",
       "      <td>NaN</td>\n",
       "      <td>NaN</td>\n",
       "      <td>NaN</td>\n",
       "      <td>NaN</td>\n",
       "      <td>NaN</td>\n",
       "      <td>1/23/2020</td>\n",
       "      <td>1</td>\n",
       "      <td>0.0</td>\n",
       "      <td>0</td>\n",
       "      <td>0</td>\n",
       "      <td>NaN</td>\n",
       "      <td>The Local</td>\n",
       "      <td>https://www.thelocal.fr/20200131/coronavirus-i...</td>\n",
       "    </tr>\n",
       "    <tr>\n",
       "      <th>...</th>\n",
       "      <td>...</td>\n",
       "      <td>...</td>\n",
       "      <td>...</td>\n",
       "      <td>...</td>\n",
       "      <td>...</td>\n",
       "      <td>...</td>\n",
       "      <td>...</td>\n",
       "      <td>...</td>\n",
       "      <td>...</td>\n",
       "      <td>...</td>\n",
       "      <td>...</td>\n",
       "      <td>...</td>\n",
       "      <td>...</td>\n",
       "      <td>...</td>\n",
       "      <td>...</td>\n",
       "      <td>...</td>\n",
       "      <td>...</td>\n",
       "      <td>...</td>\n",
       "      <td>...</td>\n",
       "      <td>...</td>\n",
       "    </tr>\n",
       "    <tr>\n",
       "      <th>1080</th>\n",
       "      <td>1081</td>\n",
       "      <td>2.0</td>\n",
       "      <td>2/25/2020</td>\n",
       "      <td>new COVID-19 patient confirmed in Austria: 24,...</td>\n",
       "      <td>Innsbruck</td>\n",
       "      <td>Austria</td>\n",
       "      <td>NaN</td>\n",
       "      <td>24.0</td>\n",
       "      <td>NaN</td>\n",
       "      <td>NaN</td>\n",
       "      <td>NaN</td>\n",
       "      <td>NaN</td>\n",
       "      <td>NaN</td>\n",
       "      <td>0</td>\n",
       "      <td>0.0</td>\n",
       "      <td>0</td>\n",
       "      <td>0</td>\n",
       "      <td>NaN</td>\n",
       "      <td>Jakarta Post</td>\n",
       "      <td>https://www.thejakartapost.com/news/2020/02/25...</td>\n",
       "    </tr>\n",
       "    <tr>\n",
       "      <th>1081</th>\n",
       "      <td>1082</td>\n",
       "      <td>1.0</td>\n",
       "      <td>2/24/2020</td>\n",
       "      <td>new COVID-19 patient confirmed in Afghanistan:...</td>\n",
       "      <td>Afghanistan</td>\n",
       "      <td>Afghanistan</td>\n",
       "      <td>NaN</td>\n",
       "      <td>35.0</td>\n",
       "      <td>NaN</td>\n",
       "      <td>NaN</td>\n",
       "      <td>NaN</td>\n",
       "      <td>NaN</td>\n",
       "      <td>NaN</td>\n",
       "      <td>0</td>\n",
       "      <td>0.0</td>\n",
       "      <td>0</td>\n",
       "      <td>0</td>\n",
       "      <td>NaN</td>\n",
       "      <td>Fox News</td>\n",
       "      <td>https://www.foxnews.com/health/afghanistan-fir...</td>\n",
       "    </tr>\n",
       "    <tr>\n",
       "      <th>1082</th>\n",
       "      <td>1083</td>\n",
       "      <td>1.0</td>\n",
       "      <td>2/26/2020</td>\n",
       "      <td>new COVID-19 patient confirmed in Algeria: mal...</td>\n",
       "      <td>Algeria</td>\n",
       "      <td>Algeria</td>\n",
       "      <td>male</td>\n",
       "      <td>NaN</td>\n",
       "      <td>NaN</td>\n",
       "      <td>NaN</td>\n",
       "      <td>NaN</td>\n",
       "      <td>NaN</td>\n",
       "      <td>2/17/2020</td>\n",
       "      <td>0</td>\n",
       "      <td>0.0</td>\n",
       "      <td>0</td>\n",
       "      <td>0</td>\n",
       "      <td>NaN</td>\n",
       "      <td>South China Morning Post</td>\n",
       "      <td>https://www.scmp.com/news/china/society/articl...</td>\n",
       "    </tr>\n",
       "    <tr>\n",
       "      <th>1083</th>\n",
       "      <td>1084</td>\n",
       "      <td>1.0</td>\n",
       "      <td>2/25/2020</td>\n",
       "      <td>new COVID-19 patient confirmed in Croatia: mal...</td>\n",
       "      <td>Croatia</td>\n",
       "      <td>Croatia</td>\n",
       "      <td>male</td>\n",
       "      <td>NaN</td>\n",
       "      <td>NaN</td>\n",
       "      <td>NaN</td>\n",
       "      <td>NaN</td>\n",
       "      <td>2/19/2020</td>\n",
       "      <td>2/21/2020</td>\n",
       "      <td>0</td>\n",
       "      <td>0.0</td>\n",
       "      <td>0</td>\n",
       "      <td>0</td>\n",
       "      <td>NaN</td>\n",
       "      <td>Reuters</td>\n",
       "      <td>https://www.reuters.com/article/us-croatia-cor...</td>\n",
       "    </tr>\n",
       "    <tr>\n",
       "      <th>1084</th>\n",
       "      <td>1085</td>\n",
       "      <td>1.0</td>\n",
       "      <td>2/25/2020</td>\n",
       "      <td>new COVID-19 patient confirmed in Switzerland:...</td>\n",
       "      <td>Bern</td>\n",
       "      <td>Switzerland</td>\n",
       "      <td>male</td>\n",
       "      <td>70.0</td>\n",
       "      <td>2/17/2020</td>\n",
       "      <td>NaN</td>\n",
       "      <td>NaN</td>\n",
       "      <td>2/15/2020</td>\n",
       "      <td>2/15/2020</td>\n",
       "      <td>0</td>\n",
       "      <td>0.0</td>\n",
       "      <td>0</td>\n",
       "      <td>0</td>\n",
       "      <td>NaN</td>\n",
       "      <td>Reuters</td>\n",
       "      <td>https://www.reuters.com/article/uk-switzerland...</td>\n",
       "    </tr>\n",
       "  </tbody>\n",
       "</table>\n",
       "<p>887 rows × 20 columns</p>\n",
       "</div>"
      ],
      "text/plain": [
       "        id  case_in_country reporting date  \\\n",
       "197    198              1.0      1/25/2020   \n",
       "198    199              2.0      1/25/2020   \n",
       "199    200              3.0      1/25/2020   \n",
       "200    201              4.0      1/28/2020   \n",
       "201    202              5.0      1/29/2020   \n",
       "...    ...              ...            ...   \n",
       "1080  1081              2.0      2/25/2020   \n",
       "1081  1082              1.0      2/24/2020   \n",
       "1082  1083              1.0      2/26/2020   \n",
       "1083  1084              1.0      2/25/2020   \n",
       "1084  1085              1.0      2/25/2020   \n",
       "\n",
       "                                                summary     location  \\\n",
       "197   new confirmed COVID-19 patient in Bordeaux, Fr...     Bordeaux   \n",
       "198   new confirmed COVID-19 patient in Paris, Franc...        Paris   \n",
       "199   new confirmed COVID-19 patient in Paris, Franc...        Paris   \n",
       "200   new confirmed COVID-19 patient in Paris, Franc...        Paris   \n",
       "201   new confirmed COVID-19 patient in Paris, Franc...        Paris   \n",
       "...                                                 ...          ...   \n",
       "1080  new COVID-19 patient confirmed in Austria: 24,...    Innsbruck   \n",
       "1081  new COVID-19 patient confirmed in Afghanistan:...  Afghanistan   \n",
       "1082  new COVID-19 patient confirmed in Algeria: mal...      Algeria   \n",
       "1083  new COVID-19 patient confirmed in Croatia: mal...      Croatia   \n",
       "1084  new COVID-19 patient confirmed in Switzerland:...         Bern   \n",
       "\n",
       "          country  gender   age symptom_onset  If_onset_approximated  \\\n",
       "197        France    male  48.0     1/23/2020                    0.0   \n",
       "198        France    male  31.0     1/19/2020                    0.0   \n",
       "199        France  female  30.0     1/23/2020                    0.0   \n",
       "200        France    male  80.0     1/25/2020                    1.0   \n",
       "201        France  female   NaN           NaN                    NaN   \n",
       "...           ...     ...   ...           ...                    ...   \n",
       "1080      Austria     NaN  24.0           NaN                    NaN   \n",
       "1081  Afghanistan     NaN  35.0           NaN                    NaN   \n",
       "1082      Algeria    male   NaN           NaN                    NaN   \n",
       "1083      Croatia    male   NaN           NaN                    NaN   \n",
       "1084  Switzerland    male  70.0     2/17/2020                    NaN   \n",
       "\n",
       "     hosp_visit_date exposure_start exposure_end  visiting Wuhan  from Wuhan  \\\n",
       "197        1/23/2020            NaN    1/22/2020               1         0.0   \n",
       "198        1/25/2020            NaN    1/18/2020               0         1.0   \n",
       "199        1/25/2020            NaN    1/19/2020               0         1.0   \n",
       "200        1/25/2020            NaN    1/23/2020               0         1.0   \n",
       "201              NaN            NaN    1/23/2020               1         0.0   \n",
       "...              ...            ...          ...             ...         ...   \n",
       "1080             NaN            NaN          NaN               0         0.0   \n",
       "1081             NaN            NaN          NaN               0         0.0   \n",
       "1082             NaN            NaN    2/17/2020               0         0.0   \n",
       "1083             NaN      2/19/2020    2/21/2020               0         0.0   \n",
       "1084             NaN      2/15/2020    2/15/2020               0         0.0   \n",
       "\n",
       "          death recovered symptom                    source  \\\n",
       "197           0         0     NaN                      CNBC   \n",
       "198           0  02/12/20     NaN                      CGTN   \n",
       "199           0  02/12/20     NaN                      CGTN   \n",
       "200   2/14/2020         0     NaN                 The Local   \n",
       "201           0         0     NaN                 The Local   \n",
       "...         ...       ...     ...                       ...   \n",
       "1080          0         0     NaN              Jakarta Post   \n",
       "1081          0         0     NaN                  Fox News   \n",
       "1082          0         0     NaN  South China Morning Post   \n",
       "1083          0         0     NaN                   Reuters   \n",
       "1084          0         0     NaN                   Reuters   \n",
       "\n",
       "                                                   link  \n",
       "197   https://www.cnbc.com/2020/01/25/reuters-americ...  \n",
       "198   https://newseu.cgtn.com/news/2020-01-26/Corona...  \n",
       "199   https://newseu.cgtn.com/news/2020-01-26/Corona...  \n",
       "200   https://www.thelocal.de/20200128/number-of-ger...  \n",
       "201   https://www.thelocal.fr/20200131/coronavirus-i...  \n",
       "...                                                 ...  \n",
       "1080  https://www.thejakartapost.com/news/2020/02/25...  \n",
       "1081  https://www.foxnews.com/health/afghanistan-fir...  \n",
       "1082  https://www.scmp.com/news/china/society/articl...  \n",
       "1083  https://www.reuters.com/article/us-croatia-cor...  \n",
       "1084  https://www.reuters.com/article/uk-switzerland...  \n",
       "\n",
       "[887 rows x 20 columns]"
      ]
     },
     "execution_count": 15,
     "metadata": {},
     "output_type": "execute_result"
    }
   ],
   "source": [
    "df"
   ]
  },
  {
   "cell_type": "markdown",
   "metadata": {},
   "source": [
    "## Cleaning 'summary' column"
   ]
  },
  {
   "cell_type": "code",
   "execution_count": 16,
   "metadata": {},
   "outputs": [
    {
     "data": {
      "text/plain": [
       "new confirmed COVID-19 patient in South Korea:                                                                                                                                      22\n",
       "new confirmed COVID-19 patient in Germany: NRW                                                                                                                                      14\n",
       "new confirmed COVID-19 patient in Iran: Qom                                                                                                                                          9\n",
       "new confirmed COVID-19 patient in Kuwait: returned from Iran                                                                                                                         8\n",
       "new confirmed COVID-19 patient in France: in contact with Briton who had been in Singapore and was positive                                                                          5\n",
       "                                                                                                                                                                                    ..\n",
       "new confirmed COVID-19 patient in Japan: male, 60s, lives in Kanagawa Prefecture, symptom onset 2/3 (fever), went to medical instutition 2/5, again 2/8, 2/10, hospitalized 2/13     1\n",
       "new confirmed COVID-19 patient in Japan: male, 10s, Hokkaido, symptom onset 2/18, went to medical instutition 2/19,                                                                  1\n",
       "new confirmed COVID-19 patient in Japan: Hokkaido, male, 80s                                                                                                                         1\n",
       "new confirmed COVID-19 patient in Japan: male, in his 40s, Wuhan resident, arrived in Japan 1/22/2020, symptom onset 1/23/2020 (fever), hospitalized 1/24/2020, Aichi Prefecture     1\n",
       "new confirmed COVID-19 patient in Japan: male, 50s, lives in Wakayama, symptom onset 2/3 (fever), went to medical institution 2/4, 2/13                                              1\n",
       "Name: summary, Length: 775, dtype: int64"
      ]
     },
     "execution_count": 16,
     "metadata": {},
     "output_type": "execute_result"
    }
   ],
   "source": [
    "df['summary'].value_counts(dropna=False)"
   ]
  },
  {
   "cell_type": "code",
   "execution_count": 17,
   "metadata": {},
   "outputs": [
    {
     "data": {
      "text/plain": [
       "0"
      ]
     },
     "execution_count": 17,
     "metadata": {},
     "output_type": "execute_result"
    }
   ],
   "source": [
    "df['summary'].isnull().sum()"
   ]
  },
  {
   "cell_type": "markdown",
   "metadata": {},
   "source": [
    "## Cleaning 'location' column\n"
   ]
  },
  {
   "cell_type": "code",
   "execution_count": 18,
   "metadata": {},
   "outputs": [
    {
     "data": {
      "text/plain": [
       "South Korea          112\n",
       "Singapore             93\n",
       "Hong Kong             80\n",
       "Hokkaido              48\n",
       "Thailand              41\n",
       "                    ... \n",
       "Egypt                  1\n",
       "Kathmandu              1\n",
       "Nagano Prefecture      1\n",
       "Wisconsin              1\n",
       "Lyon                   1\n",
       "Name: location, Length: 125, dtype: int64"
      ]
     },
     "execution_count": 18,
     "metadata": {},
     "output_type": "execute_result"
    }
   ],
   "source": [
    "df['location'].value_counts(dropna=False)"
   ]
  },
  {
   "cell_type": "code",
   "execution_count": 19,
   "metadata": {},
   "outputs": [
    {
     "data": {
      "text/plain": [
       "0"
      ]
     },
     "execution_count": 19,
     "metadata": {},
     "output_type": "execute_result"
    }
   ],
   "source": [
    "df['location'].isnull().sum()"
   ]
  },
  {
   "cell_type": "code",
   "execution_count": 20,
   "metadata": {},
   "outputs": [],
   "source": [
    "df.dropna(subset=['location'],inplace=True)"
   ]
  },
  {
   "cell_type": "markdown",
   "metadata": {},
   "source": [
    "## Cleaning 'country' column"
   ]
  },
  {
   "cell_type": "code",
   "execution_count": 21,
   "metadata": {},
   "outputs": [
    {
     "data": {
      "text/plain": [
       "Japan          189\n",
       "South Korea    114\n",
       "Hong Kong       94\n",
       "Singapore       93\n",
       "Germany         54\n",
       "Thailand        41\n",
       "France          39\n",
       "Spain           34\n",
       "Taiwan          34\n",
       "Malaysia        23\n",
       "UAE             21\n",
       "UK              20\n",
       "USA             18\n",
       "Iran            18\n",
       "Bahrain         17\n",
       "Vietnam         16\n",
       "Australia       15\n",
       "Canada          12\n",
       "Kuwait           9\n",
       "Phillipines      3\n",
       "India            3\n",
       "Italy            3\n",
       "Russia           2\n",
       "Austria          2\n",
       "Nepal            1\n",
       "Finland          1\n",
       "Lebanon          1\n",
       "Sweden           1\n",
       "Israel           1\n",
       "Algeria          1\n",
       "Croatia          1\n",
       "Cambodia         1\n",
       "Belgium          1\n",
       "Switzerland      1\n",
       "Sri Lanka        1\n",
       "Egypt            1\n",
       "Afghanistan      1\n",
       "Name: country, dtype: int64"
      ]
     },
     "execution_count": 21,
     "metadata": {},
     "output_type": "execute_result"
    }
   ],
   "source": [
    "df['country'].value_counts(dropna=False)"
   ]
  },
  {
   "cell_type": "markdown",
   "metadata": {},
   "source": [
    "## Cleaning 'gender' column"
   ]
  },
  {
   "cell_type": "code",
   "execution_count": 22,
   "metadata": {},
   "outputs": [
    {
     "data": {
      "text/plain": [
       "male      396\n",
       "female    309\n",
       "NaN       182\n",
       "Name: gender, dtype: int64"
      ]
     },
     "execution_count": 22,
     "metadata": {},
     "output_type": "execute_result"
    }
   ],
   "source": [
    "df['gender'].value_counts(dropna=False)"
   ]
  },
  {
   "cell_type": "markdown",
   "metadata": {},
   "source": [
    "### Filling all na values with 'No Gender'"
   ]
  },
  {
   "cell_type": "code",
   "execution_count": 23,
   "metadata": {},
   "outputs": [],
   "source": [
    "df['gender'].fillna('Gender Not known', inplace = True)"
   ]
  },
  {
   "cell_type": "markdown",
   "metadata": {},
   "source": [
    "## Cleaning 'age' column"
   ]
  },
  {
   "cell_type": "code",
   "execution_count": 24,
   "metadata": {},
   "outputs": [
    {
     "data": {
      "text/plain": [
       "NaN     234\n",
       "55.0     68\n",
       "65.0     48\n",
       "75.0     36\n",
       "45.0     36\n",
       "       ... \n",
       "82.0      1\n",
       "4.0       1\n",
       "6.0       1\n",
       "20.0      1\n",
       "81.0      1\n",
       "Name: age, Length: 82, dtype: int64"
      ]
     },
     "execution_count": 24,
     "metadata": {},
     "output_type": "execute_result"
    }
   ],
   "source": [
    "df['age'].value_counts(dropna=False)"
   ]
  },
  {
   "cell_type": "code",
   "execution_count": 25,
   "metadata": {},
   "outputs": [],
   "source": [
    "#df['age']=df['age'].astype('object')"
   ]
  },
  {
   "cell_type": "markdown",
   "metadata": {},
   "source": [
    "### Filling all na values with 'No age'"
   ]
  },
  {
   "cell_type": "code",
   "execution_count": 26,
   "metadata": {},
   "outputs": [],
   "source": [
    "df['age'].dropna(inplace = True)"
   ]
  },
  {
   "cell_type": "code",
   "execution_count": 27,
   "metadata": {},
   "outputs": [],
   "source": [
    "#df['age'].fillna('No age', inplace = True)"
   ]
  },
  {
   "cell_type": "code",
   "execution_count": 28,
   "metadata": {},
   "outputs": [
    {
     "data": {
      "text/plain": [
       "0"
      ]
     },
     "execution_count": 28,
     "metadata": {},
     "output_type": "execute_result"
    }
   ],
   "source": [
    "df['age'].isnull().sum()"
   ]
  },
  {
   "cell_type": "markdown",
   "metadata": {},
   "source": [
    "## Cleaning 'sympton_onset' column"
   ]
  },
  {
   "cell_type": "code",
   "execution_count": 29,
   "metadata": {},
   "outputs": [
    {
     "data": {
      "text/plain": [
       "NaN          468\n",
       "1/23/2020     19\n",
       "1/30/2020     19\n",
       "02/03/20      18\n",
       "2/16/2020     17\n",
       "1/25/2020     17\n",
       "1/24/2020     16\n",
       "2/20/2020     16\n",
       "02/01/20      15\n",
       "1/28/2020     15\n",
       "2/17/2020     13\n",
       "02/12/20      13\n",
       "2/14/2020     12\n",
       "1/26/2020     12\n",
       "02/06/20      11\n",
       "02/04/20      11\n",
       "02/02/20      11\n",
       "02/08/20      11\n",
       "02/10/20      10\n",
       "1/29/2020     10\n",
       "2/24/2020      9\n",
       "2/13/2020      9\n",
       "1/21/2020      9\n",
       "02/07/20       8\n",
       "2/19/2020      8\n",
       "1/31/2020      8\n",
       "1/22/2020      8\n",
       "1/27/2020      8\n",
       "1/20/2020      8\n",
       "02/09/20       7\n",
       "2/21/2020      7\n",
       "2/25/2020      7\n",
       "2/18/2020      7\n",
       "02/11/20       6\n",
       "2/23/2020      6\n",
       "2/22/2020      6\n",
       "2/15/2020      5\n",
       "1/19/2020      4\n",
       "02/05/20       4\n",
       "2/26/2020      3\n",
       "01/03/20       2\n",
       "1/13/2020      2\n",
       "1/16/2020      2\n",
       "1/18/2020      2\n",
       "1/14/2020      2\n",
       "01/11/20       1\n",
       "01/10/20       1\n",
       "01/05/20       1\n",
       "1/17/2020      1\n",
       "1/15/2020      1\n",
       "01/12/20       1\n",
       "Name: symptom_onset, dtype: int64"
      ]
     },
     "execution_count": 29,
     "metadata": {},
     "output_type": "execute_result"
    }
   ],
   "source": [
    "df['symptom_onset'].value_counts(dropna=False)"
   ]
  },
  {
   "cell_type": "code",
   "execution_count": 30,
   "metadata": {},
   "outputs": [
    {
     "data": {
      "text/plain": [
       "468"
      ]
     },
     "execution_count": 30,
     "metadata": {},
     "output_type": "execute_result"
    }
   ],
   "source": [
    "df['symptom_onset'].isnull().sum()"
   ]
  },
  {
   "cell_type": "code",
   "execution_count": 31,
   "metadata": {},
   "outputs": [
    {
     "data": {
      "text/plain": [
       "197    2020-01-23\n",
       "198    2020-01-19\n",
       "199    2020-01-23\n",
       "200    2020-01-25\n",
       "201           NaT\n",
       "          ...    \n",
       "1080          NaT\n",
       "1081          NaT\n",
       "1082          NaT\n",
       "1083          NaT\n",
       "1084   2020-02-17\n",
       "Name: symptom_onset, Length: 887, dtype: datetime64[ns]"
      ]
     },
     "execution_count": 31,
     "metadata": {},
     "output_type": "execute_result"
    }
   ],
   "source": [
    "pd.to_datetime(df['symptom_onset'].astype(str), format='%m/%d/%Y',errors='coerce')"
   ]
  },
  {
   "cell_type": "markdown",
   "metadata": {},
   "source": [
    "### Filling all na values with 'No dates'"
   ]
  },
  {
   "cell_type": "code",
   "execution_count": 32,
   "metadata": {},
   "outputs": [
    {
     "data": {
      "text/plain": [
       "0"
      ]
     },
     "execution_count": 32,
     "metadata": {},
     "output_type": "execute_result"
    }
   ],
   "source": [
    "df['symptom_onset']=df['symptom_onset'].astype('object')\n",
    "df['symptom_onset'].fillna('No date', inplace = True)\n",
    "df['symptom_onset'].isnull().sum()"
   ]
  },
  {
   "cell_type": "markdown",
   "metadata": {},
   "source": [
    "## Cleaning 'If_onset_approximated' column"
   ]
  },
  {
   "cell_type": "code",
   "execution_count": 33,
   "metadata": {},
   "outputs": [
    {
     "data": {
      "text/plain": [
       "NaN    469\n",
       "0.0    394\n",
       "1.0     24\n",
       "Name: If_onset_approximated, dtype: int64"
      ]
     },
     "execution_count": 33,
     "metadata": {},
     "output_type": "execute_result"
    }
   ],
   "source": [
    "df['If_onset_approximated'].value_counts(dropna=False)"
   ]
  },
  {
   "cell_type": "code",
   "execution_count": 34,
   "metadata": {},
   "outputs": [],
   "source": [
    "\n",
    "df['If_onset_approximated'].replace(to_replace = [0,1],  \n",
    "                            value =['True','False'],inplace=True) "
   ]
  },
  {
   "cell_type": "markdown",
   "metadata": {},
   "source": [
    "### Filling all an values with 'Not approximated'"
   ]
  },
  {
   "cell_type": "code",
   "execution_count": 35,
   "metadata": {},
   "outputs": [
    {
     "data": {
      "text/plain": [
       "0"
      ]
     },
     "execution_count": 35,
     "metadata": {},
     "output_type": "execute_result"
    }
   ],
   "source": [
    "df['If_onset_approximated']=df['If_onset_approximated'].astype('object')\n",
    "df['If_onset_approximated'].fillna('Not approximated', inplace = True)\n",
    "df['If_onset_approximated'].isnull().sum()"
   ]
  },
  {
   "cell_type": "code",
   "execution_count": null,
   "metadata": {},
   "outputs": [],
   "source": []
  },
  {
   "cell_type": "markdown",
   "metadata": {},
   "source": [
    "## Cleaning 'hosp_visit_date' column"
   ]
  },
  {
   "cell_type": "code",
   "execution_count": 36,
   "metadata": {},
   "outputs": [
    {
     "data": {
      "text/plain": [
       "NaN          529\n",
       "2/17/2020     20\n",
       "02/03/20      17\n",
       "02/10/20      15\n",
       "1/30/2020     15\n",
       "2/25/2020     14\n",
       "1/23/2020     13\n",
       "2/24/2020     13\n",
       "02/01/20      12\n",
       "2/21/2020     12\n",
       "2/22/2020     12\n",
       "1/25/2020     12\n",
       "02/07/20      11\n",
       "1/28/2020     10\n",
       "02/04/20      10\n",
       "1/24/2020      9\n",
       "2/18/2020      9\n",
       "1/31/2020      8\n",
       "02/06/20       8\n",
       "02/02/20       8\n",
       "02/12/20       8\n",
       "2/19/2020      8\n",
       "2/26/2020      8\n",
       "1/29/2020      8\n",
       "2/13/2020      7\n",
       "02/09/20       7\n",
       "1/27/2020      7\n",
       "2/20/2020      6\n",
       "02/05/20       6\n",
       "1/26/2020      6\n",
       "1/19/2020      6\n",
       "2/23/2020      6\n",
       "2/14/2020      5\n",
       "02/11/20       5\n",
       "02/08/20       5\n",
       "2/15/2020      5\n",
       "1/22/2020      4\n",
       "2/16/2020      4\n",
       "1/21/2020      3\n",
       "1/13/2020      3\n",
       "2/27/2020      2\n",
       "1/20/2020      2\n",
       "1/17/2020      2\n",
       "2/22/20        1\n",
       "1/16/2020      1\n",
       "2/28/2020      1\n",
       "2//2020        1\n",
       "01/08/20       1\n",
       "01/06/20       1\n",
       "1/15/2020      1\n",
       "Name: hosp_visit_date, dtype: int64"
      ]
     },
     "execution_count": 36,
     "metadata": {},
     "output_type": "execute_result"
    }
   ],
   "source": [
    "df['hosp_visit_date'].value_counts(dropna=False)"
   ]
  },
  {
   "cell_type": "code",
   "execution_count": 37,
   "metadata": {},
   "outputs": [
    {
     "data": {
      "text/plain": [
       "197    2020-01-23\n",
       "198    2020-01-25\n",
       "199    2020-01-25\n",
       "200    2020-01-25\n",
       "201           NaT\n",
       "          ...    \n",
       "1080          NaT\n",
       "1081          NaT\n",
       "1082          NaT\n",
       "1083          NaT\n",
       "1084          NaT\n",
       "Name: hosp_visit_date, Length: 887, dtype: datetime64[ns]"
      ]
     },
     "execution_count": 37,
     "metadata": {},
     "output_type": "execute_result"
    }
   ],
   "source": [
    "pd.to_datetime(df['hosp_visit_date'].astype(str), format='%m/%d/%Y',errors='coerce')"
   ]
  },
  {
   "cell_type": "markdown",
   "metadata": {},
   "source": [
    "### Filling all na values with 'No dates'"
   ]
  },
  {
   "cell_type": "code",
   "execution_count": 38,
   "metadata": {},
   "outputs": [
    {
     "data": {
      "text/plain": [
       "0"
      ]
     },
     "execution_count": 38,
     "metadata": {},
     "output_type": "execute_result"
    }
   ],
   "source": [
    "df['hosp_visit_date']=df['hosp_visit_date'].astype('object')\n",
    "df['hosp_visit_date'].fillna('No date', inplace = True)\n",
    "df['hosp_visit_date'].isnull().sum()"
   ]
  },
  {
   "cell_type": "markdown",
   "metadata": {},
   "source": [
    "## Cleaning 'exposure_start' column"
   ]
  },
  {
   "cell_type": "code",
   "execution_count": 39,
   "metadata": {},
   "outputs": [
    {
     "data": {
      "text/plain": [
       "NaN           793\n",
       "1/26/2020      14\n",
       "1/24/2020      12\n",
       "1/20/2020       7\n",
       "1/25/2020       7\n",
       "1/23/2020       6\n",
       "1/22/2020       6\n",
       "2/19/2020       5\n",
       "1/19/2020       3\n",
       "2/15/2020       3\n",
       "1/13/2020       3\n",
       "1/18/2020       3\n",
       "1/21/2020       3\n",
       "1/27/2020       2\n",
       "01/10/20        2\n",
       "02/12/20        2\n",
       "1/17/2020       2\n",
       "1/15/2020       1\n",
       "1/28/2020       1\n",
       "1/30/2020       1\n",
       "2/17/2020       1\n",
       "2/20/2020       1\n",
       "2/21/2020       1\n",
       "02/10/20        1\n",
       "01/11/20        1\n",
       "1/16/2020       1\n",
       "02/04/20        1\n",
       "02/11/20        1\n",
       "01/12/20        1\n",
       "01/08/20        1\n",
       "12/24/2019      1\n",
       "Name: exposure_start, dtype: int64"
      ]
     },
     "execution_count": 39,
     "metadata": {},
     "output_type": "execute_result"
    }
   ],
   "source": [
    "df['exposure_start'].value_counts(dropna=False)"
   ]
  },
  {
   "cell_type": "code",
   "execution_count": 40,
   "metadata": {},
   "outputs": [
    {
     "data": {
      "text/plain": [
       "197           NaT\n",
       "198           NaT\n",
       "199           NaT\n",
       "200           NaT\n",
       "201           NaT\n",
       "          ...    \n",
       "1080          NaT\n",
       "1081          NaT\n",
       "1082          NaT\n",
       "1083   2020-02-19\n",
       "1084   2020-02-15\n",
       "Name: exposure_start, Length: 887, dtype: datetime64[ns]"
      ]
     },
     "execution_count": 40,
     "metadata": {},
     "output_type": "execute_result"
    }
   ],
   "source": [
    "pd.to_datetime(df['exposure_start'].astype(str), format='%m/%d/%Y',errors='coerce')"
   ]
  },
  {
   "cell_type": "markdown",
   "metadata": {},
   "source": [
    "### Filling all na values with 'No dates'"
   ]
  },
  {
   "cell_type": "code",
   "execution_count": 41,
   "metadata": {},
   "outputs": [
    {
     "data": {
      "text/plain": [
       "0"
      ]
     },
     "execution_count": 41,
     "metadata": {},
     "output_type": "execute_result"
    }
   ],
   "source": [
    "df['exposure_start']=df['exposure_start'].astype('object')\n",
    "df['exposure_start'].fillna('No date', inplace = True)\n",
    "df['exposure_start'].isnull().sum()"
   ]
  },
  {
   "cell_type": "markdown",
   "metadata": {},
   "source": [
    "## Cleaning 'exposure_end' column"
   ]
  },
  {
   "cell_type": "code",
   "execution_count": 42,
   "metadata": {},
   "outputs": [
    {
     "data": {
      "text/plain": [
       "NaN          660\n",
       "1/22/2020     25\n",
       "1/21/2020     17\n",
       "1/23/2020     17\n",
       "1/28/2020     15\n",
       "1/26/2020     14\n",
       "1/19/2020     12\n",
       "1/20/2020     12\n",
       "1/30/2020     10\n",
       "2/21/2020      9\n",
       "1/31/2020      8\n",
       "1/24/2020      6\n",
       "1/18/2020      6\n",
       "1/13/2020      6\n",
       "02/04/20       5\n",
       "1/16/2020      5\n",
       "1/17/2020      5\n",
       "1/27/2020      4\n",
       "02/02/20       4\n",
       "1/25/2020      4\n",
       "2/22/2020      4\n",
       "2/20/2020      3\n",
       "2/15/2020      3\n",
       "02/01/20       3\n",
       "02/07/20       3\n",
       "02/03/20       3\n",
       "2/19/2020      3\n",
       "2/17/2020      2\n",
       "2/18/2020      2\n",
       "1/15/2020      2\n",
       "1/29/2020      2\n",
       "02/09/20       2\n",
       "2/23/2020      2\n",
       "01/10/20       1\n",
       "2/25/2020      1\n",
       "2/16/2020      1\n",
       "2/24/2020      1\n",
       "2/13/2020      1\n",
       "02/08/20       1\n",
       "01/08/20       1\n",
       "01/06/20       1\n",
       "02/05/20       1\n",
       "Name: exposure_end, dtype: int64"
      ]
     },
     "execution_count": 42,
     "metadata": {},
     "output_type": "execute_result"
    }
   ],
   "source": [
    "df['exposure_end'].value_counts(dropna=False)"
   ]
  },
  {
   "cell_type": "code",
   "execution_count": 43,
   "metadata": {},
   "outputs": [
    {
     "data": {
      "text/plain": [
       "197    2020-01-22\n",
       "198    2020-01-18\n",
       "199    2020-01-19\n",
       "200    2020-01-23\n",
       "201    2020-01-23\n",
       "          ...    \n",
       "1080          NaT\n",
       "1081          NaT\n",
       "1082   2020-02-17\n",
       "1083   2020-02-21\n",
       "1084   2020-02-15\n",
       "Name: exposure_end, Length: 887, dtype: datetime64[ns]"
      ]
     },
     "execution_count": 43,
     "metadata": {},
     "output_type": "execute_result"
    }
   ],
   "source": [
    "pd.to_datetime(df['exposure_end'].astype(str), format='%m/%d/%Y',errors='coerce')"
   ]
  },
  {
   "cell_type": "markdown",
   "metadata": {},
   "source": [
    "### Filling all na values with 'No dates'"
   ]
  },
  {
   "cell_type": "code",
   "execution_count": 44,
   "metadata": {},
   "outputs": [
    {
     "data": {
      "text/plain": [
       "0"
      ]
     },
     "execution_count": 44,
     "metadata": {},
     "output_type": "execute_result"
    }
   ],
   "source": [
    "df['exposure_end']=df['exposure_end'].astype('object')\n",
    "df['exposure_end'].fillna('No date', inplace = True)\n",
    "df['exposure_end'].isnull().sum()"
   ]
  },
  {
   "cell_type": "markdown",
   "metadata": {},
   "source": [
    "## Cleaning 'visiting Wuhan' column"
   ]
  },
  {
   "cell_type": "code",
   "execution_count": 45,
   "metadata": {},
   "outputs": [
    {
     "data": {
      "text/plain": [
       "0    780\n",
       "1    107\n",
       "Name: visiting Wuhan, dtype: int64"
      ]
     },
     "execution_count": 45,
     "metadata": {},
     "output_type": "execute_result"
    }
   ],
   "source": [
    "df['visiting Wuhan'].value_counts(dropna=False)"
   ]
  },
  {
   "cell_type": "markdown",
   "metadata": {},
   "source": [
    "## Cleaning 'from_Wuhan' column"
   ]
  },
  {
   "cell_type": "code",
   "execution_count": 46,
   "metadata": {},
   "outputs": [
    {
     "data": {
      "text/plain": [
       "0.0    813\n",
       "1.0     74\n",
       "Name: from Wuhan, dtype: int64"
      ]
     },
     "execution_count": 46,
     "metadata": {},
     "output_type": "execute_result"
    }
   ],
   "source": [
    "df['from Wuhan'].value_counts(dropna=False)"
   ]
  },
  {
   "cell_type": "code",
   "execution_count": 47,
   "metadata": {},
   "outputs": [],
   "source": [
    "df['from Wuhan']=df['from Wuhan'].astype('object')"
   ]
  },
  {
   "cell_type": "markdown",
   "metadata": {},
   "source": [
    "## Cleaning 'death' column "
   ]
  },
  {
   "cell_type": "code",
   "execution_count": 48,
   "metadata": {},
   "outputs": [
    {
     "data": {
      "text/plain": [
       "0            863\n",
       "2/23/2020      4\n",
       "2/26/2020      3\n",
       "1              3\n",
       "2/19/2020      2\n",
       "2/21/2020      2\n",
       "2/27/2020      2\n",
       "2/25/2020      2\n",
       "2/22/2020      1\n",
       "2/13/2020      1\n",
       "2/14/2020      1\n",
       "2/24/2020      1\n",
       "02/01/20       1\n",
       "2/28/2020      1\n",
       "Name: death, dtype: int64"
      ]
     },
     "execution_count": 48,
     "metadata": {},
     "output_type": "execute_result"
    }
   ],
   "source": [
    "df['death'].value_counts(dropna=False)"
   ]
  },
  {
   "cell_type": "code",
   "execution_count": 49,
   "metadata": {},
   "outputs": [],
   "source": [
    "pd.to_datetime(df['death'].astype(str), format='%m/%d/%Y',errors='coerce')\n",
    "df['death'].replace(to_replace =[\"0\", \"1\"],  \n",
    "                            value =\"No Date\",inplace=True) "
   ]
  },
  {
   "cell_type": "markdown",
   "metadata": {},
   "source": [
    "### Filling all na with 'No dates'"
   ]
  },
  {
   "cell_type": "code",
   "execution_count": 50,
   "metadata": {},
   "outputs": [
    {
     "data": {
      "text/plain": [
       "0"
      ]
     },
     "execution_count": 50,
     "metadata": {},
     "output_type": "execute_result"
    }
   ],
   "source": [
    "df['death']=df['death'].astype('object')\n",
    "df['death'].fillna('No date', inplace = True)\n",
    "df['death'].isnull().sum()"
   ]
  },
  {
   "cell_type": "markdown",
   "metadata": {},
   "source": [
    "## Cleaning 'recovered' column"
   ]
  },
  {
   "cell_type": "code",
   "execution_count": 51,
   "metadata": {},
   "outputs": [
    {
     "data": {
      "text/plain": [
       "0             731\n",
       "2/19/2020      13\n",
       "2/18/2020      13\n",
       "12/30/1899     12\n",
       "02/12/20       11\n",
       "2/21/2020      10\n",
       "2/20/2020       9\n",
       "2/15/2020       9\n",
       "2/14/2020       8\n",
       "2/17/2020       7\n",
       "2/24/2020       7\n",
       "02/09/20        6\n",
       "2/26/2020       6\n",
       "2/27/2020       5\n",
       "2/25/2020       5\n",
       "1               4\n",
       "02/06/20        4\n",
       "02/04/20        4\n",
       "2/22/2020       3\n",
       "02/11/20        3\n",
       "2/16/2020       3\n",
       "1/30/2020       2\n",
       "02/05/20        2\n",
       "02/08/20        2\n",
       "2/23/2020       1\n",
       "1/17/2020       1\n",
       "02/02/20        1\n",
       "1/31/2020       1\n",
       "02/07/20        1\n",
       "2/28/2020       1\n",
       "1/15/2020       1\n",
       "2/13/2020       1\n",
       "Name: recovered, dtype: int64"
      ]
     },
     "execution_count": 51,
     "metadata": {},
     "output_type": "execute_result"
    }
   ],
   "source": [
    "df['recovered'].value_counts(dropna=False)"
   ]
  },
  {
   "cell_type": "code",
   "execution_count": 52,
   "metadata": {},
   "outputs": [],
   "source": [
    "pd.to_datetime(df['recovered'].astype(str), format='%m/%d/%Y',errors='coerce')\n",
    "df['recovered'].replace(to_replace =[\"0\", \"1\"],  \n",
    "                            value =\"No Date\",inplace=True) "
   ]
  },
  {
   "cell_type": "markdown",
   "metadata": {},
   "source": [
    "### Filling all na with 'No dates'"
   ]
  },
  {
   "cell_type": "code",
   "execution_count": 53,
   "metadata": {},
   "outputs": [
    {
     "data": {
      "text/plain": [
       "0"
      ]
     },
     "execution_count": 53,
     "metadata": {},
     "output_type": "execute_result"
    }
   ],
   "source": [
    "df['recovered']=df['recovered'].astype('object')\n",
    "df['recovered'].fillna('No date', inplace = True)\n",
    "df['recovered'].isnull().sum()"
   ]
  },
  {
   "cell_type": "markdown",
   "metadata": {},
   "source": [
    "## Cleaning 'symptom' column"
   ]
  },
  {
   "cell_type": "code",
   "execution_count": 54,
   "metadata": {},
   "outputs": [
    {
     "data": {
      "text/plain": [
       "NaN                                      620\n",
       "fever                                     72\n",
       "fever, cough                              36\n",
       "cough                                     14\n",
       "fever, malaise                             7\n",
       "                                        ... \n",
       "malaise, fever, headache                   1\n",
       "fatigue, loss of appetite                  1\n",
       "fatigue, joint pain, fever                 1\n",
       "mild cough, sputum, throat discomfort      1\n",
       "fatigue, difficulty breathing              1\n",
       "Name: symptom, Length: 108, dtype: int64"
      ]
     },
     "execution_count": 54,
     "metadata": {},
     "output_type": "execute_result"
    }
   ],
   "source": [
    "df['symptom'].value_counts(dropna=False)"
   ]
  },
  {
   "cell_type": "markdown",
   "metadata": {},
   "source": [
    "### Filling all na with 'Not identified'"
   ]
  },
  {
   "cell_type": "code",
   "execution_count": 55,
   "metadata": {},
   "outputs": [
    {
     "data": {
      "text/plain": [
       "0"
      ]
     },
     "execution_count": 55,
     "metadata": {},
     "output_type": "execute_result"
    }
   ],
   "source": [
    " df['symptom'].fillna(\"Not identified\", inplace = True) \n",
    "df['symptom'].isnull().sum()\n",
    "                           "
   ]
  },
  {
   "cell_type": "markdown",
   "metadata": {},
   "source": [
    "## Cleaning 'source' column"
   ]
  },
  {
   "cell_type": "code",
   "execution_count": 56,
   "metadata": {},
   "outputs": [
    {
     "data": {
      "text/plain": [
       "Ministry of Health              178\n",
       "KCDC                            103\n",
       "Ministry of Health Singapore     67\n",
       "Government HK                    60\n",
       "Channel News Asia                51\n",
       "                               ... \n",
       "US News                           1\n",
       "Fortune                           1\n",
       "HBL                               1\n",
       "SBS                               1\n",
       "Channel 3000                      1\n",
       "Name: source, Length: 74, dtype: int64"
      ]
     },
     "execution_count": 56,
     "metadata": {},
     "output_type": "execute_result"
    }
   ],
   "source": [
    "df['source'].value_counts(dropna=False)"
   ]
  },
  {
   "cell_type": "code",
   "execution_count": 57,
   "metadata": {},
   "outputs": [
    {
     "data": {
      "text/plain": [
       "0"
      ]
     },
     "execution_count": 57,
     "metadata": {},
     "output_type": "execute_result"
    }
   ],
   "source": [
    "df['source'].isnull().sum()"
   ]
  },
  {
   "cell_type": "markdown",
   "metadata": {},
   "source": [
    "## Cleaning 'link' column"
   ]
  },
  {
   "cell_type": "code",
   "execution_count": 58,
   "metadata": {
    "scrolled": true
   },
   "outputs": [
    {
     "data": {
      "text/plain": [
       "https://www.mhlw.go.jp/stf/houdou/houdou_list_202002.html                                                                                                                                                                                                                                                                                                                                                                                                                                                                                                                                                                                                                                                                                                                                                                          87\n",
       "https://www.mhlw.go.jp/stf/newpage_09713.html                                                                                                                                                                                                                                                                                                                                                                                                                                                                                                                                                                                                                                                                                                                                                                                      48\n",
       "https://www.mhlw.go.jp/stf/newpage_09652.html                                                                                                                                                                                                                                                                                                                                                                                                                                                                                                                                                                                                                                                                                                                                                                                      22\n",
       "https://www.moh.gov.sg/news-highlights/details/two-more-cases-discharged-two-new-cases-of-novel-coronavirus-infection-confirmed                                                                                                                                                                                                                                                                                                                                                                                                                                                                                                                                                                                                                                                                                                    22\n",
       "http://behdasht.gov.ir/news/%DA%A9%D8%B1%D9%88%D9%86%D8%A7+%D9%88%DB%8C%D8%B1%D9%88%D8%B3/199807/%D8%AF%D8%B1+%D8%B1%D9%88%D8%B2%D9%87%D8%A7%DB%8C+%DA%AF%D8%B0%D8%B4%D8%AA%D9%87+735+%D8%A8%DB%8C%D9%85%D8%A7%D8%B1+%D8%A8%D8%A7+%D8%B9%D9%84%D8%A7%D8%A6%D9%85+%D8%B4%D8%A8%D9%87+%D8%A2%D9%86%D9%81%D9%84%D9%88%D8%A2%D9%86%D8%B2%D8%A7+%D8%AF%D8%B1+%DA%A9%D8%B4%D9%88%D8%B1+%D8%A8%D8%B3%D8%AA%D8%B1%DB%8C+%D8%B4%D8%AF%D9%86%D8%AF+%D8%A8%D8%B1+%D8%A7%D8%B3%D8%A7%D8%B3+%D8%A2%D8%AE%D8%B1%DB%8C%D9%86+%D9%86%D8%AA%D8%A7%DB%8C%D8%AC+%D8%A2%D8%B2%D9%85%D8%A7%DB%8C%D8%B4+%D9%87%D8%A7+%D8%A7%D8%A8%D8%AA%D9%84%D8%A7%DB%8C+13+%D9%85%D9%88%D8%B1%D8%AF+%D8%AF%DB%8C%DA%AF%D8%B1+%D8%A8%D9%87+%DA%A9%D9%88%D9%88%DB%8C%D8%AF19+%D9%82%D8%B7%D8%B9%DB%8C+%D8%A8%D9%87+%D9%86%D8%B8%D8%B1+%D9%85%DB%8C+%D8%B1%D8%B3%D8%AF    16\n",
       "                                                                                                                                                                                                                                                                                                                                                                                                                                                                                                                                                                                                                                                                                                                                                                                                                                   ..\n",
       "https://www.straitstimes.com/asia/se-asia/woman-from-wuhan-is-latest-coronavirus-case-in-malaysia-bringing-total-to-20                                                                                                                                                                                                                                                                                                                                                                                                                                                                                                                                                                                                                                                                                                              1\n",
       "https://www.bbc.com/news/uk-51481471                                                                                                                                                                                                                                                                                                                                                                                                                                                                                                                                                                                                                                                                                                                                                                                                1\n",
       "https://asia.nikkei.com/Spotlight/Coronavirus-outbreak/South-Korea-confirms-first-case-of-new-coronavirus-in-Chinese-visitor                                                                                                                                                                                                                                                                                                                                                                                                                                                                                                                                                                                                                                                                                                        1\n",
       "https://www.info.gov.hk/gia/general/202002/25/P2020022500772.htm                                                                                                                                                                                                                                                                                                                                                                                                                                                                                                                                                                                                                                                                                                                                                                    1\n",
       "https://en.yna.co.kr/view/AEN20200126000754320                                                                                                                                                                                                                                                                                                                                                                                                                                                                                                                                                                                                                                                                                                                                                                                      1\n",
       "Name: link, Length: 416, dtype: int64"
      ]
     },
     "execution_count": 58,
     "metadata": {},
     "output_type": "execute_result"
    }
   ],
   "source": [
    "df['link'].value_counts(dropna=False)"
   ]
  },
  {
   "cell_type": "code",
   "execution_count": 59,
   "metadata": {},
   "outputs": [
    {
     "data": {
      "text/plain": [
       "0"
      ]
     },
     "execution_count": 59,
     "metadata": {},
     "output_type": "execute_result"
    }
   ],
   "source": [
    "df['link'].isnull().sum()"
   ]
  },
  {
   "cell_type": "markdown",
   "metadata": {},
   "source": [
    "# cleansed data"
   ]
  },
  {
   "cell_type": "code",
   "execution_count": 60,
   "metadata": {},
   "outputs": [
    {
     "data": {
      "text/html": [
       "<div>\n",
       "<style scoped>\n",
       "    .dataframe tbody tr th:only-of-type {\n",
       "        vertical-align: middle;\n",
       "    }\n",
       "\n",
       "    .dataframe tbody tr th {\n",
       "        vertical-align: top;\n",
       "    }\n",
       "\n",
       "    .dataframe thead th {\n",
       "        text-align: right;\n",
       "    }\n",
       "</style>\n",
       "<table border=\"1\" class=\"dataframe\">\n",
       "  <thead>\n",
       "    <tr style=\"text-align: right;\">\n",
       "      <th></th>\n",
       "      <th>id</th>\n",
       "      <th>case_in_country</th>\n",
       "      <th>reporting date</th>\n",
       "      <th>summary</th>\n",
       "      <th>location</th>\n",
       "      <th>country</th>\n",
       "      <th>gender</th>\n",
       "      <th>age</th>\n",
       "      <th>symptom_onset</th>\n",
       "      <th>If_onset_approximated</th>\n",
       "      <th>hosp_visit_date</th>\n",
       "      <th>exposure_start</th>\n",
       "      <th>exposure_end</th>\n",
       "      <th>visiting Wuhan</th>\n",
       "      <th>from Wuhan</th>\n",
       "      <th>death</th>\n",
       "      <th>recovered</th>\n",
       "      <th>symptom</th>\n",
       "      <th>source</th>\n",
       "      <th>link</th>\n",
       "    </tr>\n",
       "  </thead>\n",
       "  <tbody>\n",
       "    <tr>\n",
       "      <th>197</th>\n",
       "      <td>198</td>\n",
       "      <td>1.0</td>\n",
       "      <td>1/25/2020</td>\n",
       "      <td>new confirmed COVID-19 patient in Bordeaux, Fr...</td>\n",
       "      <td>Bordeaux</td>\n",
       "      <td>France</td>\n",
       "      <td>male</td>\n",
       "      <td>48.0</td>\n",
       "      <td>1/23/2020</td>\n",
       "      <td>True</td>\n",
       "      <td>1/23/2020</td>\n",
       "      <td>No date</td>\n",
       "      <td>1/22/2020</td>\n",
       "      <td>1</td>\n",
       "      <td>0</td>\n",
       "      <td>No Date</td>\n",
       "      <td>No Date</td>\n",
       "      <td>Not identified</td>\n",
       "      <td>CNBC</td>\n",
       "      <td>https://www.cnbc.com/2020/01/25/reuters-americ...</td>\n",
       "    </tr>\n",
       "    <tr>\n",
       "      <th>198</th>\n",
       "      <td>199</td>\n",
       "      <td>2.0</td>\n",
       "      <td>1/25/2020</td>\n",
       "      <td>new confirmed COVID-19 patient in Paris, Franc...</td>\n",
       "      <td>Paris</td>\n",
       "      <td>France</td>\n",
       "      <td>male</td>\n",
       "      <td>31.0</td>\n",
       "      <td>1/19/2020</td>\n",
       "      <td>True</td>\n",
       "      <td>1/25/2020</td>\n",
       "      <td>No date</td>\n",
       "      <td>1/18/2020</td>\n",
       "      <td>0</td>\n",
       "      <td>1</td>\n",
       "      <td>No Date</td>\n",
       "      <td>02/12/20</td>\n",
       "      <td>Not identified</td>\n",
       "      <td>CGTN</td>\n",
       "      <td>https://newseu.cgtn.com/news/2020-01-26/Corona...</td>\n",
       "    </tr>\n",
       "    <tr>\n",
       "      <th>199</th>\n",
       "      <td>200</td>\n",
       "      <td>3.0</td>\n",
       "      <td>1/25/2020</td>\n",
       "      <td>new confirmed COVID-19 patient in Paris, Franc...</td>\n",
       "      <td>Paris</td>\n",
       "      <td>France</td>\n",
       "      <td>female</td>\n",
       "      <td>30.0</td>\n",
       "      <td>1/23/2020</td>\n",
       "      <td>True</td>\n",
       "      <td>1/25/2020</td>\n",
       "      <td>No date</td>\n",
       "      <td>1/19/2020</td>\n",
       "      <td>0</td>\n",
       "      <td>1</td>\n",
       "      <td>No Date</td>\n",
       "      <td>02/12/20</td>\n",
       "      <td>Not identified</td>\n",
       "      <td>CGTN</td>\n",
       "      <td>https://newseu.cgtn.com/news/2020-01-26/Corona...</td>\n",
       "    </tr>\n",
       "    <tr>\n",
       "      <th>200</th>\n",
       "      <td>201</td>\n",
       "      <td>4.0</td>\n",
       "      <td>1/28/2020</td>\n",
       "      <td>new confirmed COVID-19 patient in Paris, Franc...</td>\n",
       "      <td>Paris</td>\n",
       "      <td>France</td>\n",
       "      <td>male</td>\n",
       "      <td>80.0</td>\n",
       "      <td>1/25/2020</td>\n",
       "      <td>False</td>\n",
       "      <td>1/25/2020</td>\n",
       "      <td>No date</td>\n",
       "      <td>1/23/2020</td>\n",
       "      <td>0</td>\n",
       "      <td>1</td>\n",
       "      <td>2/14/2020</td>\n",
       "      <td>No Date</td>\n",
       "      <td>Not identified</td>\n",
       "      <td>The Local</td>\n",
       "      <td>https://www.thelocal.de/20200128/number-of-ger...</td>\n",
       "    </tr>\n",
       "    <tr>\n",
       "      <th>201</th>\n",
       "      <td>202</td>\n",
       "      <td>5.0</td>\n",
       "      <td>1/29/2020</td>\n",
       "      <td>new confirmed COVID-19 patient in Paris, Franc...</td>\n",
       "      <td>Paris</td>\n",
       "      <td>France</td>\n",
       "      <td>female</td>\n",
       "      <td>NaN</td>\n",
       "      <td>No date</td>\n",
       "      <td>Not approximated</td>\n",
       "      <td>No date</td>\n",
       "      <td>No date</td>\n",
       "      <td>1/23/2020</td>\n",
       "      <td>1</td>\n",
       "      <td>0</td>\n",
       "      <td>No Date</td>\n",
       "      <td>No Date</td>\n",
       "      <td>Not identified</td>\n",
       "      <td>The Local</td>\n",
       "      <td>https://www.thelocal.fr/20200131/coronavirus-i...</td>\n",
       "    </tr>\n",
       "    <tr>\n",
       "      <th>...</th>\n",
       "      <td>...</td>\n",
       "      <td>...</td>\n",
       "      <td>...</td>\n",
       "      <td>...</td>\n",
       "      <td>...</td>\n",
       "      <td>...</td>\n",
       "      <td>...</td>\n",
       "      <td>...</td>\n",
       "      <td>...</td>\n",
       "      <td>...</td>\n",
       "      <td>...</td>\n",
       "      <td>...</td>\n",
       "      <td>...</td>\n",
       "      <td>...</td>\n",
       "      <td>...</td>\n",
       "      <td>...</td>\n",
       "      <td>...</td>\n",
       "      <td>...</td>\n",
       "      <td>...</td>\n",
       "      <td>...</td>\n",
       "    </tr>\n",
       "    <tr>\n",
       "      <th>1080</th>\n",
       "      <td>1081</td>\n",
       "      <td>2.0</td>\n",
       "      <td>2/25/2020</td>\n",
       "      <td>new COVID-19 patient confirmed in Austria: 24,...</td>\n",
       "      <td>Innsbruck</td>\n",
       "      <td>Austria</td>\n",
       "      <td>Gender Not known</td>\n",
       "      <td>24.0</td>\n",
       "      <td>No date</td>\n",
       "      <td>Not approximated</td>\n",
       "      <td>No date</td>\n",
       "      <td>No date</td>\n",
       "      <td>No date</td>\n",
       "      <td>0</td>\n",
       "      <td>0</td>\n",
       "      <td>No Date</td>\n",
       "      <td>No Date</td>\n",
       "      <td>Not identified</td>\n",
       "      <td>Jakarta Post</td>\n",
       "      <td>https://www.thejakartapost.com/news/2020/02/25...</td>\n",
       "    </tr>\n",
       "    <tr>\n",
       "      <th>1081</th>\n",
       "      <td>1082</td>\n",
       "      <td>1.0</td>\n",
       "      <td>2/24/2020</td>\n",
       "      <td>new COVID-19 patient confirmed in Afghanistan:...</td>\n",
       "      <td>Afghanistan</td>\n",
       "      <td>Afghanistan</td>\n",
       "      <td>Gender Not known</td>\n",
       "      <td>35.0</td>\n",
       "      <td>No date</td>\n",
       "      <td>Not approximated</td>\n",
       "      <td>No date</td>\n",
       "      <td>No date</td>\n",
       "      <td>No date</td>\n",
       "      <td>0</td>\n",
       "      <td>0</td>\n",
       "      <td>No Date</td>\n",
       "      <td>No Date</td>\n",
       "      <td>Not identified</td>\n",
       "      <td>Fox News</td>\n",
       "      <td>https://www.foxnews.com/health/afghanistan-fir...</td>\n",
       "    </tr>\n",
       "    <tr>\n",
       "      <th>1082</th>\n",
       "      <td>1083</td>\n",
       "      <td>1.0</td>\n",
       "      <td>2/26/2020</td>\n",
       "      <td>new COVID-19 patient confirmed in Algeria: mal...</td>\n",
       "      <td>Algeria</td>\n",
       "      <td>Algeria</td>\n",
       "      <td>male</td>\n",
       "      <td>NaN</td>\n",
       "      <td>No date</td>\n",
       "      <td>Not approximated</td>\n",
       "      <td>No date</td>\n",
       "      <td>No date</td>\n",
       "      <td>2/17/2020</td>\n",
       "      <td>0</td>\n",
       "      <td>0</td>\n",
       "      <td>No Date</td>\n",
       "      <td>No Date</td>\n",
       "      <td>Not identified</td>\n",
       "      <td>South China Morning Post</td>\n",
       "      <td>https://www.scmp.com/news/china/society/articl...</td>\n",
       "    </tr>\n",
       "    <tr>\n",
       "      <th>1083</th>\n",
       "      <td>1084</td>\n",
       "      <td>1.0</td>\n",
       "      <td>2/25/2020</td>\n",
       "      <td>new COVID-19 patient confirmed in Croatia: mal...</td>\n",
       "      <td>Croatia</td>\n",
       "      <td>Croatia</td>\n",
       "      <td>male</td>\n",
       "      <td>NaN</td>\n",
       "      <td>No date</td>\n",
       "      <td>Not approximated</td>\n",
       "      <td>No date</td>\n",
       "      <td>2/19/2020</td>\n",
       "      <td>2/21/2020</td>\n",
       "      <td>0</td>\n",
       "      <td>0</td>\n",
       "      <td>No Date</td>\n",
       "      <td>No Date</td>\n",
       "      <td>Not identified</td>\n",
       "      <td>Reuters</td>\n",
       "      <td>https://www.reuters.com/article/us-croatia-cor...</td>\n",
       "    </tr>\n",
       "    <tr>\n",
       "      <th>1084</th>\n",
       "      <td>1085</td>\n",
       "      <td>1.0</td>\n",
       "      <td>2/25/2020</td>\n",
       "      <td>new COVID-19 patient confirmed in Switzerland:...</td>\n",
       "      <td>Bern</td>\n",
       "      <td>Switzerland</td>\n",
       "      <td>male</td>\n",
       "      <td>70.0</td>\n",
       "      <td>2/17/2020</td>\n",
       "      <td>Not approximated</td>\n",
       "      <td>No date</td>\n",
       "      <td>2/15/2020</td>\n",
       "      <td>2/15/2020</td>\n",
       "      <td>0</td>\n",
       "      <td>0</td>\n",
       "      <td>No Date</td>\n",
       "      <td>No Date</td>\n",
       "      <td>Not identified</td>\n",
       "      <td>Reuters</td>\n",
       "      <td>https://www.reuters.com/article/uk-switzerland...</td>\n",
       "    </tr>\n",
       "  </tbody>\n",
       "</table>\n",
       "<p>887 rows × 20 columns</p>\n",
       "</div>"
      ],
      "text/plain": [
       "        id  case_in_country reporting date  \\\n",
       "197    198              1.0      1/25/2020   \n",
       "198    199              2.0      1/25/2020   \n",
       "199    200              3.0      1/25/2020   \n",
       "200    201              4.0      1/28/2020   \n",
       "201    202              5.0      1/29/2020   \n",
       "...    ...              ...            ...   \n",
       "1080  1081              2.0      2/25/2020   \n",
       "1081  1082              1.0      2/24/2020   \n",
       "1082  1083              1.0      2/26/2020   \n",
       "1083  1084              1.0      2/25/2020   \n",
       "1084  1085              1.0      2/25/2020   \n",
       "\n",
       "                                                summary     location  \\\n",
       "197   new confirmed COVID-19 patient in Bordeaux, Fr...     Bordeaux   \n",
       "198   new confirmed COVID-19 patient in Paris, Franc...        Paris   \n",
       "199   new confirmed COVID-19 patient in Paris, Franc...        Paris   \n",
       "200   new confirmed COVID-19 patient in Paris, Franc...        Paris   \n",
       "201   new confirmed COVID-19 patient in Paris, Franc...        Paris   \n",
       "...                                                 ...          ...   \n",
       "1080  new COVID-19 patient confirmed in Austria: 24,...    Innsbruck   \n",
       "1081  new COVID-19 patient confirmed in Afghanistan:...  Afghanistan   \n",
       "1082  new COVID-19 patient confirmed in Algeria: mal...      Algeria   \n",
       "1083  new COVID-19 patient confirmed in Croatia: mal...      Croatia   \n",
       "1084  new COVID-19 patient confirmed in Switzerland:...         Bern   \n",
       "\n",
       "          country            gender   age symptom_onset If_onset_approximated  \\\n",
       "197        France              male  48.0     1/23/2020                  True   \n",
       "198        France              male  31.0     1/19/2020                  True   \n",
       "199        France            female  30.0     1/23/2020                  True   \n",
       "200        France              male  80.0     1/25/2020                 False   \n",
       "201        France            female   NaN       No date      Not approximated   \n",
       "...           ...               ...   ...           ...                   ...   \n",
       "1080      Austria  Gender Not known  24.0       No date      Not approximated   \n",
       "1081  Afghanistan  Gender Not known  35.0       No date      Not approximated   \n",
       "1082      Algeria              male   NaN       No date      Not approximated   \n",
       "1083      Croatia              male   NaN       No date      Not approximated   \n",
       "1084  Switzerland              male  70.0     2/17/2020      Not approximated   \n",
       "\n",
       "     hosp_visit_date exposure_start exposure_end  visiting Wuhan from Wuhan  \\\n",
       "197        1/23/2020        No date    1/22/2020               1          0   \n",
       "198        1/25/2020        No date    1/18/2020               0          1   \n",
       "199        1/25/2020        No date    1/19/2020               0          1   \n",
       "200        1/25/2020        No date    1/23/2020               0          1   \n",
       "201          No date        No date    1/23/2020               1          0   \n",
       "...              ...            ...          ...             ...        ...   \n",
       "1080         No date        No date      No date               0          0   \n",
       "1081         No date        No date      No date               0          0   \n",
       "1082         No date        No date    2/17/2020               0          0   \n",
       "1083         No date      2/19/2020    2/21/2020               0          0   \n",
       "1084         No date      2/15/2020    2/15/2020               0          0   \n",
       "\n",
       "          death recovered         symptom                    source  \\\n",
       "197     No Date   No Date  Not identified                      CNBC   \n",
       "198     No Date  02/12/20  Not identified                      CGTN   \n",
       "199     No Date  02/12/20  Not identified                      CGTN   \n",
       "200   2/14/2020   No Date  Not identified                 The Local   \n",
       "201     No Date   No Date  Not identified                 The Local   \n",
       "...         ...       ...             ...                       ...   \n",
       "1080    No Date   No Date  Not identified              Jakarta Post   \n",
       "1081    No Date   No Date  Not identified                  Fox News   \n",
       "1082    No Date   No Date  Not identified  South China Morning Post   \n",
       "1083    No Date   No Date  Not identified                   Reuters   \n",
       "1084    No Date   No Date  Not identified                   Reuters   \n",
       "\n",
       "                                                   link  \n",
       "197   https://www.cnbc.com/2020/01/25/reuters-americ...  \n",
       "198   https://newseu.cgtn.com/news/2020-01-26/Corona...  \n",
       "199   https://newseu.cgtn.com/news/2020-01-26/Corona...  \n",
       "200   https://www.thelocal.de/20200128/number-of-ger...  \n",
       "201   https://www.thelocal.fr/20200131/coronavirus-i...  \n",
       "...                                                 ...  \n",
       "1080  https://www.thejakartapost.com/news/2020/02/25...  \n",
       "1081  https://www.foxnews.com/health/afghanistan-fir...  \n",
       "1082  https://www.scmp.com/news/china/society/articl...  \n",
       "1083  https://www.reuters.com/article/us-croatia-cor...  \n",
       "1084  https://www.reuters.com/article/uk-switzerland...  \n",
       "\n",
       "[887 rows x 20 columns]"
      ]
     },
     "execution_count": 60,
     "metadata": {},
     "output_type": "execute_result"
    }
   ],
   "source": [
    "df"
   ]
  },
  {
   "cell_type": "code",
   "execution_count": 61,
   "metadata": {},
   "outputs": [
    {
     "data": {
      "text/plain": [
       "197     1\n",
       "198     2\n",
       "199     3\n",
       "200     4\n",
       "201     5\n",
       "       ..\n",
       "1080    2\n",
       "1081    1\n",
       "1082    1\n",
       "1083    1\n",
       "1084    1\n",
       "Name: case_in_country, Length: 887, dtype: int32"
      ]
     },
     "execution_count": 61,
     "metadata": {},
     "output_type": "execute_result"
    }
   ],
   "source": [
    "df['case_in_country'].astype('int')"
   ]
  },
  {
   "cell_type": "code",
   "execution_count": 62,
   "metadata": {},
   "outputs": [],
   "source": [
    "df.dropna(inplace=True)"
   ]
  },
  {
   "cell_type": "code",
   "execution_count": 63,
   "metadata": {},
   "outputs": [
    {
     "data": {
      "text/html": [
       "<div>\n",
       "<style scoped>\n",
       "    .dataframe tbody tr th:only-of-type {\n",
       "        vertical-align: middle;\n",
       "    }\n",
       "\n",
       "    .dataframe tbody tr th {\n",
       "        vertical-align: top;\n",
       "    }\n",
       "\n",
       "    .dataframe thead th {\n",
       "        text-align: right;\n",
       "    }\n",
       "</style>\n",
       "<table border=\"1\" class=\"dataframe\">\n",
       "  <thead>\n",
       "    <tr style=\"text-align: right;\">\n",
       "      <th></th>\n",
       "      <th>id</th>\n",
       "      <th>case_in_country</th>\n",
       "      <th>reporting date</th>\n",
       "      <th>summary</th>\n",
       "      <th>location</th>\n",
       "      <th>country</th>\n",
       "      <th>gender</th>\n",
       "      <th>age</th>\n",
       "      <th>symptom_onset</th>\n",
       "      <th>If_onset_approximated</th>\n",
       "      <th>hosp_visit_date</th>\n",
       "      <th>exposure_start</th>\n",
       "      <th>exposure_end</th>\n",
       "      <th>visiting Wuhan</th>\n",
       "      <th>from Wuhan</th>\n",
       "      <th>death</th>\n",
       "      <th>recovered</th>\n",
       "      <th>symptom</th>\n",
       "      <th>source</th>\n",
       "      <th>link</th>\n",
       "    </tr>\n",
       "  </thead>\n",
       "  <tbody>\n",
       "    <tr>\n",
       "      <th>197</th>\n",
       "      <td>198</td>\n",
       "      <td>1.0</td>\n",
       "      <td>1/25/2020</td>\n",
       "      <td>new confirmed COVID-19 patient in Bordeaux, Fr...</td>\n",
       "      <td>Bordeaux</td>\n",
       "      <td>France</td>\n",
       "      <td>male</td>\n",
       "      <td>48.0</td>\n",
       "      <td>1/23/2020</td>\n",
       "      <td>True</td>\n",
       "      <td>1/23/2020</td>\n",
       "      <td>No date</td>\n",
       "      <td>1/22/2020</td>\n",
       "      <td>1</td>\n",
       "      <td>0</td>\n",
       "      <td>No Date</td>\n",
       "      <td>No Date</td>\n",
       "      <td>Not identified</td>\n",
       "      <td>CNBC</td>\n",
       "      <td>https://www.cnbc.com/2020/01/25/reuters-americ...</td>\n",
       "    </tr>\n",
       "    <tr>\n",
       "      <th>198</th>\n",
       "      <td>199</td>\n",
       "      <td>2.0</td>\n",
       "      <td>1/25/2020</td>\n",
       "      <td>new confirmed COVID-19 patient in Paris, Franc...</td>\n",
       "      <td>Paris</td>\n",
       "      <td>France</td>\n",
       "      <td>male</td>\n",
       "      <td>31.0</td>\n",
       "      <td>1/19/2020</td>\n",
       "      <td>True</td>\n",
       "      <td>1/25/2020</td>\n",
       "      <td>No date</td>\n",
       "      <td>1/18/2020</td>\n",
       "      <td>0</td>\n",
       "      <td>1</td>\n",
       "      <td>No Date</td>\n",
       "      <td>02/12/20</td>\n",
       "      <td>Not identified</td>\n",
       "      <td>CGTN</td>\n",
       "      <td>https://newseu.cgtn.com/news/2020-01-26/Corona...</td>\n",
       "    </tr>\n",
       "    <tr>\n",
       "      <th>199</th>\n",
       "      <td>200</td>\n",
       "      <td>3.0</td>\n",
       "      <td>1/25/2020</td>\n",
       "      <td>new confirmed COVID-19 patient in Paris, Franc...</td>\n",
       "      <td>Paris</td>\n",
       "      <td>France</td>\n",
       "      <td>female</td>\n",
       "      <td>30.0</td>\n",
       "      <td>1/23/2020</td>\n",
       "      <td>True</td>\n",
       "      <td>1/25/2020</td>\n",
       "      <td>No date</td>\n",
       "      <td>1/19/2020</td>\n",
       "      <td>0</td>\n",
       "      <td>1</td>\n",
       "      <td>No Date</td>\n",
       "      <td>02/12/20</td>\n",
       "      <td>Not identified</td>\n",
       "      <td>CGTN</td>\n",
       "      <td>https://newseu.cgtn.com/news/2020-01-26/Corona...</td>\n",
       "    </tr>\n",
       "    <tr>\n",
       "      <th>200</th>\n",
       "      <td>201</td>\n",
       "      <td>4.0</td>\n",
       "      <td>1/28/2020</td>\n",
       "      <td>new confirmed COVID-19 patient in Paris, Franc...</td>\n",
       "      <td>Paris</td>\n",
       "      <td>France</td>\n",
       "      <td>male</td>\n",
       "      <td>80.0</td>\n",
       "      <td>1/25/2020</td>\n",
       "      <td>False</td>\n",
       "      <td>1/25/2020</td>\n",
       "      <td>No date</td>\n",
       "      <td>1/23/2020</td>\n",
       "      <td>0</td>\n",
       "      <td>1</td>\n",
       "      <td>2/14/2020</td>\n",
       "      <td>No Date</td>\n",
       "      <td>Not identified</td>\n",
       "      <td>The Local</td>\n",
       "      <td>https://www.thelocal.de/20200128/number-of-ger...</td>\n",
       "    </tr>\n",
       "    <tr>\n",
       "      <th>203</th>\n",
       "      <td>204</td>\n",
       "      <td>7.0</td>\n",
       "      <td>02/08/20</td>\n",
       "      <td>new confirmed COVID-19 patient in France: 9, i...</td>\n",
       "      <td>France</td>\n",
       "      <td>France</td>\n",
       "      <td>Gender Not known</td>\n",
       "      <td>9.0</td>\n",
       "      <td>No date</td>\n",
       "      <td>Not approximated</td>\n",
       "      <td>No date</td>\n",
       "      <td>1/24/2020</td>\n",
       "      <td>1/28/2020</td>\n",
       "      <td>0</td>\n",
       "      <td>0</td>\n",
       "      <td>No Date</td>\n",
       "      <td>No Date</td>\n",
       "      <td>Not identified</td>\n",
       "      <td>Bloomberg</td>\n",
       "      <td>https://www.bloomberg.com/news/articles/2020-0...</td>\n",
       "    </tr>\n",
       "    <tr>\n",
       "      <th>...</th>\n",
       "      <td>...</td>\n",
       "      <td>...</td>\n",
       "      <td>...</td>\n",
       "      <td>...</td>\n",
       "      <td>...</td>\n",
       "      <td>...</td>\n",
       "      <td>...</td>\n",
       "      <td>...</td>\n",
       "      <td>...</td>\n",
       "      <td>...</td>\n",
       "      <td>...</td>\n",
       "      <td>...</td>\n",
       "      <td>...</td>\n",
       "      <td>...</td>\n",
       "      <td>...</td>\n",
       "      <td>...</td>\n",
       "      <td>...</td>\n",
       "      <td>...</td>\n",
       "      <td>...</td>\n",
       "      <td>...</td>\n",
       "    </tr>\n",
       "    <tr>\n",
       "      <th>1052</th>\n",
       "      <td>1053</td>\n",
       "      <td>1.0</td>\n",
       "      <td>2/21/2020</td>\n",
       "      <td>new confirmed COVID-19 patient in Lebanon: fem...</td>\n",
       "      <td>Lebanon</td>\n",
       "      <td>Lebanon</td>\n",
       "      <td>female</td>\n",
       "      <td>45.0</td>\n",
       "      <td>No date</td>\n",
       "      <td>Not approximated</td>\n",
       "      <td>No date</td>\n",
       "      <td>No date</td>\n",
       "      <td>2/20/2020</td>\n",
       "      <td>0</td>\n",
       "      <td>0</td>\n",
       "      <td>No Date</td>\n",
       "      <td>No Date</td>\n",
       "      <td>Not identified</td>\n",
       "      <td>US News</td>\n",
       "      <td>https://www.usnews.com/news/world/articles/202...</td>\n",
       "    </tr>\n",
       "    <tr>\n",
       "      <th>1079</th>\n",
       "      <td>1080</td>\n",
       "      <td>1.0</td>\n",
       "      <td>2/25/2020</td>\n",
       "      <td>new COVID-19 patient confirmed in Austria: 24,...</td>\n",
       "      <td>Innsbruck</td>\n",
       "      <td>Austria</td>\n",
       "      <td>Gender Not known</td>\n",
       "      <td>24.0</td>\n",
       "      <td>No date</td>\n",
       "      <td>Not approximated</td>\n",
       "      <td>No date</td>\n",
       "      <td>No date</td>\n",
       "      <td>No date</td>\n",
       "      <td>0</td>\n",
       "      <td>0</td>\n",
       "      <td>No Date</td>\n",
       "      <td>No Date</td>\n",
       "      <td>Not identified</td>\n",
       "      <td>Jakarta Post</td>\n",
       "      <td>https://www.thejakartapost.com/news/2020/02/25...</td>\n",
       "    </tr>\n",
       "    <tr>\n",
       "      <th>1080</th>\n",
       "      <td>1081</td>\n",
       "      <td>2.0</td>\n",
       "      <td>2/25/2020</td>\n",
       "      <td>new COVID-19 patient confirmed in Austria: 24,...</td>\n",
       "      <td>Innsbruck</td>\n",
       "      <td>Austria</td>\n",
       "      <td>Gender Not known</td>\n",
       "      <td>24.0</td>\n",
       "      <td>No date</td>\n",
       "      <td>Not approximated</td>\n",
       "      <td>No date</td>\n",
       "      <td>No date</td>\n",
       "      <td>No date</td>\n",
       "      <td>0</td>\n",
       "      <td>0</td>\n",
       "      <td>No Date</td>\n",
       "      <td>No Date</td>\n",
       "      <td>Not identified</td>\n",
       "      <td>Jakarta Post</td>\n",
       "      <td>https://www.thejakartapost.com/news/2020/02/25...</td>\n",
       "    </tr>\n",
       "    <tr>\n",
       "      <th>1081</th>\n",
       "      <td>1082</td>\n",
       "      <td>1.0</td>\n",
       "      <td>2/24/2020</td>\n",
       "      <td>new COVID-19 patient confirmed in Afghanistan:...</td>\n",
       "      <td>Afghanistan</td>\n",
       "      <td>Afghanistan</td>\n",
       "      <td>Gender Not known</td>\n",
       "      <td>35.0</td>\n",
       "      <td>No date</td>\n",
       "      <td>Not approximated</td>\n",
       "      <td>No date</td>\n",
       "      <td>No date</td>\n",
       "      <td>No date</td>\n",
       "      <td>0</td>\n",
       "      <td>0</td>\n",
       "      <td>No Date</td>\n",
       "      <td>No Date</td>\n",
       "      <td>Not identified</td>\n",
       "      <td>Fox News</td>\n",
       "      <td>https://www.foxnews.com/health/afghanistan-fir...</td>\n",
       "    </tr>\n",
       "    <tr>\n",
       "      <th>1084</th>\n",
       "      <td>1085</td>\n",
       "      <td>1.0</td>\n",
       "      <td>2/25/2020</td>\n",
       "      <td>new COVID-19 patient confirmed in Switzerland:...</td>\n",
       "      <td>Bern</td>\n",
       "      <td>Switzerland</td>\n",
       "      <td>male</td>\n",
       "      <td>70.0</td>\n",
       "      <td>2/17/2020</td>\n",
       "      <td>Not approximated</td>\n",
       "      <td>No date</td>\n",
       "      <td>2/15/2020</td>\n",
       "      <td>2/15/2020</td>\n",
       "      <td>0</td>\n",
       "      <td>0</td>\n",
       "      <td>No Date</td>\n",
       "      <td>No Date</td>\n",
       "      <td>Not identified</td>\n",
       "      <td>Reuters</td>\n",
       "      <td>https://www.reuters.com/article/uk-switzerland...</td>\n",
       "    </tr>\n",
       "  </tbody>\n",
       "</table>\n",
       "<p>653 rows × 20 columns</p>\n",
       "</div>"
      ],
      "text/plain": [
       "        id  case_in_country reporting date  \\\n",
       "197    198              1.0      1/25/2020   \n",
       "198    199              2.0      1/25/2020   \n",
       "199    200              3.0      1/25/2020   \n",
       "200    201              4.0      1/28/2020   \n",
       "203    204              7.0       02/08/20   \n",
       "...    ...              ...            ...   \n",
       "1052  1053              1.0      2/21/2020   \n",
       "1079  1080              1.0      2/25/2020   \n",
       "1080  1081              2.0      2/25/2020   \n",
       "1081  1082              1.0      2/24/2020   \n",
       "1084  1085              1.0      2/25/2020   \n",
       "\n",
       "                                                summary     location  \\\n",
       "197   new confirmed COVID-19 patient in Bordeaux, Fr...     Bordeaux   \n",
       "198   new confirmed COVID-19 patient in Paris, Franc...        Paris   \n",
       "199   new confirmed COVID-19 patient in Paris, Franc...        Paris   \n",
       "200   new confirmed COVID-19 patient in Paris, Franc...        Paris   \n",
       "203   new confirmed COVID-19 patient in France: 9, i...       France   \n",
       "...                                                 ...          ...   \n",
       "1052  new confirmed COVID-19 patient in Lebanon: fem...      Lebanon   \n",
       "1079  new COVID-19 patient confirmed in Austria: 24,...    Innsbruck   \n",
       "1080  new COVID-19 patient confirmed in Austria: 24,...    Innsbruck   \n",
       "1081  new COVID-19 patient confirmed in Afghanistan:...  Afghanistan   \n",
       "1084  new COVID-19 patient confirmed in Switzerland:...         Bern   \n",
       "\n",
       "          country            gender   age symptom_onset If_onset_approximated  \\\n",
       "197        France              male  48.0     1/23/2020                  True   \n",
       "198        France              male  31.0     1/19/2020                  True   \n",
       "199        France            female  30.0     1/23/2020                  True   \n",
       "200        France              male  80.0     1/25/2020                 False   \n",
       "203        France  Gender Not known   9.0       No date      Not approximated   \n",
       "...           ...               ...   ...           ...                   ...   \n",
       "1052      Lebanon            female  45.0       No date      Not approximated   \n",
       "1079      Austria  Gender Not known  24.0       No date      Not approximated   \n",
       "1080      Austria  Gender Not known  24.0       No date      Not approximated   \n",
       "1081  Afghanistan  Gender Not known  35.0       No date      Not approximated   \n",
       "1084  Switzerland              male  70.0     2/17/2020      Not approximated   \n",
       "\n",
       "     hosp_visit_date exposure_start exposure_end  visiting Wuhan from Wuhan  \\\n",
       "197        1/23/2020        No date    1/22/2020               1          0   \n",
       "198        1/25/2020        No date    1/18/2020               0          1   \n",
       "199        1/25/2020        No date    1/19/2020               0          1   \n",
       "200        1/25/2020        No date    1/23/2020               0          1   \n",
       "203          No date      1/24/2020    1/28/2020               0          0   \n",
       "...              ...            ...          ...             ...        ...   \n",
       "1052         No date        No date    2/20/2020               0          0   \n",
       "1079         No date        No date      No date               0          0   \n",
       "1080         No date        No date      No date               0          0   \n",
       "1081         No date        No date      No date               0          0   \n",
       "1084         No date      2/15/2020    2/15/2020               0          0   \n",
       "\n",
       "          death recovered         symptom        source  \\\n",
       "197     No Date   No Date  Not identified          CNBC   \n",
       "198     No Date  02/12/20  Not identified          CGTN   \n",
       "199     No Date  02/12/20  Not identified          CGTN   \n",
       "200   2/14/2020   No Date  Not identified     The Local   \n",
       "203     No Date   No Date  Not identified     Bloomberg   \n",
       "...         ...       ...             ...           ...   \n",
       "1052    No Date   No Date  Not identified       US News   \n",
       "1079    No Date   No Date  Not identified  Jakarta Post   \n",
       "1080    No Date   No Date  Not identified  Jakarta Post   \n",
       "1081    No Date   No Date  Not identified      Fox News   \n",
       "1084    No Date   No Date  Not identified       Reuters   \n",
       "\n",
       "                                                   link  \n",
       "197   https://www.cnbc.com/2020/01/25/reuters-americ...  \n",
       "198   https://newseu.cgtn.com/news/2020-01-26/Corona...  \n",
       "199   https://newseu.cgtn.com/news/2020-01-26/Corona...  \n",
       "200   https://www.thelocal.de/20200128/number-of-ger...  \n",
       "203   https://www.bloomberg.com/news/articles/2020-0...  \n",
       "...                                                 ...  \n",
       "1052  https://www.usnews.com/news/world/articles/202...  \n",
       "1079  https://www.thejakartapost.com/news/2020/02/25...  \n",
       "1080  https://www.thejakartapost.com/news/2020/02/25...  \n",
       "1081  https://www.foxnews.com/health/afghanistan-fir...  \n",
       "1084  https://www.reuters.com/article/uk-switzerland...  \n",
       "\n",
       "[653 rows x 20 columns]"
      ]
     },
     "execution_count": 63,
     "metadata": {},
     "output_type": "execute_result"
    }
   ],
   "source": [
    "df"
   ]
  },
  {
   "cell_type": "code",
   "execution_count": 64,
   "metadata": {},
   "outputs": [
    {
     "data": {
      "text/plain": [
       "<matplotlib.axes._subplots.AxesSubplot at 0x240259d2088>"
      ]
     },
     "execution_count": 64,
     "metadata": {},
     "output_type": "execute_result"
    },
    {
     "data": {
      "image/png": "[encoded data removed]",
      "text/plain": [
       "<Figure size 576x576 with 1 Axes>"
      ]
     },
     "metadata": {
      "needs_background": "light"
     },
     "output_type": "display_data"
    }
   ],
   "source": [
    "df['case_in_country'].plot(kind='box',figsize=(8,8))"
   ]
  },
  {
   "cell_type": "code",
   "execution_count": 65,
   "metadata": {},
   "outputs": [
    {
     "data": {
      "image/png": "[encoded data removed]",
      "text/plain": [
       "<Figure size 2880x1080 with 1 Axes>"
      ]
     },
     "metadata": {
      "needs_background": "light"
     },
     "output_type": "display_data"
    }
   ],
   "source": [
    "fig, ax = plt.subplots(figsize=(40, 15))\n",
    "\n",
    "# Add x-axis and y-axis\n",
    "ax.bar(df['reporting date'],\n",
    "        df['country'],\n",
    "        color='blue')\n",
    "\n",
    "# Set title and labels for axes\n",
    "ax.set(xlabel=\"reporting date\",\n",
    "       ylabel=\"country\",\n",
    "       title=\"people affected\")\n",
    "\n",
    "plt.show()"
   ]
  },
  {
   "cell_type": "code",
   "execution_count": 66,
   "metadata": {},
   "outputs": [
    {
     "data": {
      "image/png": "[encoded data removed]",
      "text/plain": [
       "<Figure size 2880x1080 with 1 Axes>"
      ]
     },
     "metadata": {
      "needs_background": "light"
     },
     "output_type": "display_data"
    }
   ],
   "source": [
    "fig, ax = plt.subplots(figsize=(40, 15))\n",
    "\n",
    "# Add x-axis and y-axis\n",
    "ax.bar(df['recovered'],\n",
    "        df['country'],\n",
    "        color='blue')\n",
    "\n",
    "# Set title and labels for axes\n",
    "ax.set(xlabel=\"recovered date\",\n",
    "       ylabel=\"country\",\n",
    "       title=\"people affected\")\n",
    "\n",
    "plt.show()"
   ]
  },
  {
   "cell_type": "code",
   "execution_count": 67,
   "metadata": {},
   "outputs": [
    {
     "data": {
      "image/png": "[encoded data removed]",
      "text/plain": [
       "<Figure size 576x360 with 1 Axes>"
      ]
     },
     "metadata": {
      "needs_background": "light"
     },
     "output_type": "display_data"
    }
   ],
   "source": [
    "fig, ax = plt.subplots(figsize=(8,5))\n",
    "\n",
    "# Add x-axis and y-axis\n",
    "ax.bar(df['gender'],\n",
    "        df['age'],\n",
    "        color='purple'\n",
    "       )\n",
    "\n",
    "# Set title and labels for axes\n",
    "ax.set(xlabel=\"gender\",\n",
    "       ylabel=\"age\",\n",
    "       title=\"people affected\"\n",
    "      )\n",
    "\n",
    "plt.show()"
   ]
  },
  {
   "cell_type": "code",
   "execution_count": 68,
   "metadata": {},
   "outputs": [],
   "source": [
    "list1=['02/06/20','02/05/20','02/09/20','02/04/20','02/08/20','02/10/20 ','02/11/20 ',\n",
    "       '02/01/20','02/02/20','02/07/20','02/12/20','02/03/20']\n",
    "list2=['02/06/2020','02/05/2020','02/09/2020','02/04/2020','02/08/2020','02/10/2020',\n",
    "       '02/11/2020','02/01/2020','02/02/2020','02/07/2020','02/12/2020','02/03/2020']"
   ]
  },
  {
   "cell_type": "code",
   "execution_count": 69,
   "metadata": {},
   "outputs": [],
   "source": [
    "df.replace(to_replace = list1, \n",
    "                 value = list2, inplace=True) \n"
   ]
  },
  {
   "cell_type": "code",
   "execution_count": 70,
   "metadata": {},
   "outputs": [],
   "source": [
    "list3 = ['02/10/20','02/11/20','01/03/20','01/10/20','01/05/20','01/11/20']"
   ]
  },
  {
   "cell_type": "code",
   "execution_count": 71,
   "metadata": {},
   "outputs": [],
   "source": [
    "list4 = ['2/10/2020','2/11/2020','1/03/2020','1/10/2020','1/05/2020','1/11/2020']"
   ]
  },
  {
   "cell_type": "code",
   "execution_count": 72,
   "metadata": {},
   "outputs": [],
   "source": [
    "df.replace(to_replace = list3, \n",
    "                 value = list4, inplace=True) "
   ]
  },
  {
   "cell_type": "code",
   "execution_count": 73,
   "metadata": {},
   "outputs": [],
   "source": [
    "list5 = ['02/10/20','02/11/20','01/06/20','2/22/20']\n",
    "list6 = ['2/10/2020','2/11/2020','1/06/2020','2/22/2020']"
   ]
  },
  {
   "cell_type": "code",
   "execution_count": 74,
   "metadata": {},
   "outputs": [],
   "source": [
    "df.replace(to_replace = list5, \n",
    "                 value = list6, inplace=True) \n",
    "df['hosp_visit_date'].replace(to_replace = '2//2020', \n",
    "                 value = 'No date', inplace=True)"
   ]
  },
  {
   "cell_type": "code",
   "execution_count": 75,
   "metadata": {},
   "outputs": [],
   "source": [
    "list9 = ['01/08/20','01/12/20']\n",
    "list10 = ['01/08/2020','01/12/2020']\n",
    "df.replace(to_replace = list9, \n",
    "                 value = list10, inplace=True)"
   ]
  },
  {
   "cell_type": "code",
   "execution_count": 76,
   "metadata": {},
   "outputs": [],
   "source": [
    "df.drop( df[df['recovered'] == '12/30/1899' ].index , inplace=True)"
   ]
  },
  {
   "cell_type": "code",
   "execution_count": 77,
   "metadata": {},
   "outputs": [],
   "source": [
    "df.sort_values('case_in_country',ascending=True,inplace=True)\n"
   ]
  },
  {
   "cell_type": "code",
   "execution_count": 78,
   "metadata": {
    "scrolled": true
   },
   "outputs": [
    {
     "data": {
      "text/html": [
       "<div>\n",
       "<style scoped>\n",
       "    .dataframe tbody tr th:only-of-type {\n",
       "        vertical-align: middle;\n",
       "    }\n",
       "\n",
       "    .dataframe tbody tr th {\n",
       "        vertical-align: top;\n",
       "    }\n",
       "\n",
       "    .dataframe thead th {\n",
       "        text-align: right;\n",
       "    }\n",
       "</style>\n",
       "<table border=\"1\" class=\"dataframe\">\n",
       "  <thead>\n",
       "    <tr style=\"text-align: right;\">\n",
       "      <th></th>\n",
       "      <th>id</th>\n",
       "      <th>case_in_country</th>\n",
       "      <th>reporting date</th>\n",
       "      <th>summary</th>\n",
       "      <th>location</th>\n",
       "      <th>country</th>\n",
       "      <th>gender</th>\n",
       "      <th>age</th>\n",
       "      <th>symptom_onset</th>\n",
       "      <th>If_onset_approximated</th>\n",
       "      <th>hosp_visit_date</th>\n",
       "      <th>exposure_start</th>\n",
       "      <th>exposure_end</th>\n",
       "      <th>visiting Wuhan</th>\n",
       "      <th>from Wuhan</th>\n",
       "      <th>death</th>\n",
       "      <th>recovered</th>\n",
       "      <th>symptom</th>\n",
       "      <th>source</th>\n",
       "      <th>link</th>\n",
       "    </tr>\n",
       "  </thead>\n",
       "  <tbody>\n",
       "    <tr>\n",
       "      <th>197</th>\n",
       "      <td>198</td>\n",
       "      <td>1.0</td>\n",
       "      <td>1/25/2020</td>\n",
       "      <td>new confirmed COVID-19 patient in Bordeaux, Fr...</td>\n",
       "      <td>Bordeaux</td>\n",
       "      <td>France</td>\n",
       "      <td>male</td>\n",
       "      <td>48.0</td>\n",
       "      <td>1/23/2020</td>\n",
       "      <td>True</td>\n",
       "      <td>1/23/2020</td>\n",
       "      <td>No date</td>\n",
       "      <td>1/22/2020</td>\n",
       "      <td>1</td>\n",
       "      <td>0.0</td>\n",
       "      <td>No Date</td>\n",
       "      <td>No Date</td>\n",
       "      <td>Not identified</td>\n",
       "      <td>CNBC</td>\n",
       "      <td>https://www.cnbc.com/2020/01/25/reuters-americ...</td>\n",
       "    </tr>\n",
       "    <tr>\n",
       "      <th>450</th>\n",
       "      <td>451</td>\n",
       "      <td>1.0</td>\n",
       "      <td>1/24/2020</td>\n",
       "      <td>new confirmed COVID-19 patient in Singapore: 1...</td>\n",
       "      <td>Singapore</td>\n",
       "      <td>Singapore</td>\n",
       "      <td>male</td>\n",
       "      <td>66.0</td>\n",
       "      <td>1/21/2020</td>\n",
       "      <td>True</td>\n",
       "      <td>1/22/2020</td>\n",
       "      <td>No date</td>\n",
       "      <td>1/20/2020</td>\n",
       "      <td>0</td>\n",
       "      <td>1.0</td>\n",
       "      <td>No Date</td>\n",
       "      <td>2/19/2020</td>\n",
       "      <td>Not identified</td>\n",
       "      <td>Channel News Asia</td>\n",
       "      <td>https://www.channelnewsasia.com/news/singapore...</td>\n",
       "    </tr>\n",
       "    <tr>\n",
       "      <th>543</th>\n",
       "      <td>544</td>\n",
       "      <td>1.0</td>\n",
       "      <td>1/20/2020</td>\n",
       "      <td>new confirmed COVID-19 patient in South Korea:...</td>\n",
       "      <td>South Korea</td>\n",
       "      <td>South Korea</td>\n",
       "      <td>female</td>\n",
       "      <td>35.0</td>\n",
       "      <td>1/18/2020</td>\n",
       "      <td>True</td>\n",
       "      <td>1/19/2020</td>\n",
       "      <td>No date</td>\n",
       "      <td>1/19/2020</td>\n",
       "      <td>0</td>\n",
       "      <td>1.0</td>\n",
       "      <td>No Date</td>\n",
       "      <td>02/06/2020</td>\n",
       "      <td>high fever, chills, muscle pain</td>\n",
       "      <td>Nikkei Asian Review</td>\n",
       "      <td>https://asia.nikkei.com/Spotlight/Coronavirus-...</td>\n",
       "    </tr>\n",
       "    <tr>\n",
       "      <th>1081</th>\n",
       "      <td>1082</td>\n",
       "      <td>1.0</td>\n",
       "      <td>2/24/2020</td>\n",
       "      <td>new COVID-19 patient confirmed in Afghanistan:...</td>\n",
       "      <td>Afghanistan</td>\n",
       "      <td>Afghanistan</td>\n",
       "      <td>Gender Not known</td>\n",
       "      <td>35.0</td>\n",
       "      <td>No date</td>\n",
       "      <td>Not approximated</td>\n",
       "      <td>No date</td>\n",
       "      <td>No date</td>\n",
       "      <td>No date</td>\n",
       "      <td>0</td>\n",
       "      <td>0.0</td>\n",
       "      <td>No Date</td>\n",
       "      <td>No Date</td>\n",
       "      <td>Not identified</td>\n",
       "      <td>Fox News</td>\n",
       "      <td>https://www.foxnews.com/health/afghanistan-fir...</td>\n",
       "    </tr>\n",
       "    <tr>\n",
       "      <th>657</th>\n",
       "      <td>658</td>\n",
       "      <td>1.0</td>\n",
       "      <td>1/21/2020</td>\n",
       "      <td>new confirmed COVID-19 patient in Taiwan: fema...</td>\n",
       "      <td>Taiwan</td>\n",
       "      <td>Taiwan</td>\n",
       "      <td>female</td>\n",
       "      <td>55.0</td>\n",
       "      <td>1/11/2020</td>\n",
       "      <td>True</td>\n",
       "      <td>1/20/2020</td>\n",
       "      <td>No date</td>\n",
       "      <td>1/20/2020</td>\n",
       "      <td>1</td>\n",
       "      <td>0.0</td>\n",
       "      <td>No Date</td>\n",
       "      <td>No Date</td>\n",
       "      <td>fever, cough, shortness of breath</td>\n",
       "      <td>Taiwan News</td>\n",
       "      <td>https://www.taiwannews.com.tw/en/news/3866002</td>\n",
       "    </tr>\n",
       "    <tr>\n",
       "      <th>...</th>\n",
       "      <td>...</td>\n",
       "      <td>...</td>\n",
       "      <td>...</td>\n",
       "      <td>...</td>\n",
       "      <td>...</td>\n",
       "      <td>...</td>\n",
       "      <td>...</td>\n",
       "      <td>...</td>\n",
       "      <td>...</td>\n",
       "      <td>...</td>\n",
       "      <td>...</td>\n",
       "      <td>...</td>\n",
       "      <td>...</td>\n",
       "      <td>...</td>\n",
       "      <td>...</td>\n",
       "      <td>...</td>\n",
       "      <td>...</td>\n",
       "      <td>...</td>\n",
       "      <td>...</td>\n",
       "      <td>...</td>\n",
       "    </tr>\n",
       "    <tr>\n",
       "      <th>652</th>\n",
       "      <td>653</td>\n",
       "      <td>365.0</td>\n",
       "      <td>2/22/2020</td>\n",
       "      <td>new confirmed COVID-19 patient in South Korea:...</td>\n",
       "      <td>South Korea</td>\n",
       "      <td>South Korea</td>\n",
       "      <td>male</td>\n",
       "      <td>62.0</td>\n",
       "      <td>02/02/2020</td>\n",
       "      <td>True</td>\n",
       "      <td>02/05/2020</td>\n",
       "      <td>No date</td>\n",
       "      <td>No date</td>\n",
       "      <td>0</td>\n",
       "      <td>0.0</td>\n",
       "      <td>No Date</td>\n",
       "      <td>No Date</td>\n",
       "      <td>Not identified</td>\n",
       "      <td>KCDC</td>\n",
       "      <td>https://www.cdc.go.kr/board/board.es?mid=a3040...</td>\n",
       "    </tr>\n",
       "    <tr>\n",
       "      <th>653</th>\n",
       "      <td>654</td>\n",
       "      <td>443.0</td>\n",
       "      <td>2/23/2020</td>\n",
       "      <td>new confirmed COVID-19 patient in South Korea:...</td>\n",
       "      <td>South Korea</td>\n",
       "      <td>South Korea</td>\n",
       "      <td>male</td>\n",
       "      <td>41.0</td>\n",
       "      <td>No date</td>\n",
       "      <td>Not approximated</td>\n",
       "      <td>No date</td>\n",
       "      <td>No date</td>\n",
       "      <td>No date</td>\n",
       "      <td>0</td>\n",
       "      <td>0.0</td>\n",
       "      <td>2/22/2020</td>\n",
       "      <td>No Date</td>\n",
       "      <td>Not identified</td>\n",
       "      <td>KCDC</td>\n",
       "      <td>https://www.cdc.go.kr/board/board.es?mid=a3040...</td>\n",
       "    </tr>\n",
       "    <tr>\n",
       "      <th>654</th>\n",
       "      <td>655</td>\n",
       "      <td>875.0</td>\n",
       "      <td>2/23/2020</td>\n",
       "      <td>new confirmed COVID-19 patient in South Korea:...</td>\n",
       "      <td>South Korea</td>\n",
       "      <td>South Korea</td>\n",
       "      <td>male</td>\n",
       "      <td>36.0</td>\n",
       "      <td>No date</td>\n",
       "      <td>Not approximated</td>\n",
       "      <td>No date</td>\n",
       "      <td>No date</td>\n",
       "      <td>No date</td>\n",
       "      <td>0</td>\n",
       "      <td>0.0</td>\n",
       "      <td>2/25/2020</td>\n",
       "      <td>No Date</td>\n",
       "      <td>Not identified</td>\n",
       "      <td>KCDC</td>\n",
       "      <td>https://www.cdc.go.kr/board/board.es?mid=a3040...</td>\n",
       "    </tr>\n",
       "    <tr>\n",
       "      <th>655</th>\n",
       "      <td>656</td>\n",
       "      <td>925.0</td>\n",
       "      <td>2/25/2020</td>\n",
       "      <td>new confirmed COVID-19 patient in South Korea:...</td>\n",
       "      <td>South Korea</td>\n",
       "      <td>South Korea</td>\n",
       "      <td>female</td>\n",
       "      <td>69.0</td>\n",
       "      <td>No date</td>\n",
       "      <td>Not approximated</td>\n",
       "      <td>No date</td>\n",
       "      <td>No date</td>\n",
       "      <td>No date</td>\n",
       "      <td>0</td>\n",
       "      <td>0.0</td>\n",
       "      <td>No Date</td>\n",
       "      <td>No Date</td>\n",
       "      <td>Not identified</td>\n",
       "      <td>KCDC</td>\n",
       "      <td>https://www.cdc.go.kr/board/board.es?mid=a3040...</td>\n",
       "    </tr>\n",
       "    <tr>\n",
       "      <th>656</th>\n",
       "      <td>657</td>\n",
       "      <td>1443.0</td>\n",
       "      <td>2/26/2020</td>\n",
       "      <td>new confirmed COVID-19 patient in South Korea:...</td>\n",
       "      <td>South Korea</td>\n",
       "      <td>South Korea</td>\n",
       "      <td>male</td>\n",
       "      <td>75.0</td>\n",
       "      <td>No date</td>\n",
       "      <td>Not approximated</td>\n",
       "      <td>No date</td>\n",
       "      <td>No date</td>\n",
       "      <td>No date</td>\n",
       "      <td>0</td>\n",
       "      <td>0.0</td>\n",
       "      <td>2/27/2020</td>\n",
       "      <td>No Date</td>\n",
       "      <td>Not identified</td>\n",
       "      <td>KCDC</td>\n",
       "      <td>https://www.cdc.go.kr/board/board.es?mid=a3040...</td>\n",
       "    </tr>\n",
       "  </tbody>\n",
       "</table>\n",
       "<p>641 rows × 20 columns</p>\n",
       "</div>"
      ],
      "text/plain": [
       "        id  case_in_country reporting date  \\\n",
       "197    198              1.0      1/25/2020   \n",
       "450    451              1.0      1/24/2020   \n",
       "543    544              1.0      1/20/2020   \n",
       "1081  1082              1.0      2/24/2020   \n",
       "657    658              1.0      1/21/2020   \n",
       "...    ...              ...            ...   \n",
       "652    653            365.0      2/22/2020   \n",
       "653    654            443.0      2/23/2020   \n",
       "654    655            875.0      2/23/2020   \n",
       "655    656            925.0      2/25/2020   \n",
       "656    657           1443.0      2/26/2020   \n",
       "\n",
       "                                                summary     location  \\\n",
       "197   new confirmed COVID-19 patient in Bordeaux, Fr...     Bordeaux   \n",
       "450   new confirmed COVID-19 patient in Singapore: 1...    Singapore   \n",
       "543   new confirmed COVID-19 patient in South Korea:...  South Korea   \n",
       "1081  new COVID-19 patient confirmed in Afghanistan:...  Afghanistan   \n",
       "657   new confirmed COVID-19 patient in Taiwan: fema...       Taiwan   \n",
       "...                                                 ...          ...   \n",
       "652   new confirmed COVID-19 patient in South Korea:...  South Korea   \n",
       "653   new confirmed COVID-19 patient in South Korea:...  South Korea   \n",
       "654   new confirmed COVID-19 patient in South Korea:...  South Korea   \n",
       "655   new confirmed COVID-19 patient in South Korea:...  South Korea   \n",
       "656   new confirmed COVID-19 patient in South Korea:...  South Korea   \n",
       "\n",
       "          country            gender   age symptom_onset If_onset_approximated  \\\n",
       "197        France              male  48.0     1/23/2020                  True   \n",
       "450     Singapore              male  66.0     1/21/2020                  True   \n",
       "543   South Korea            female  35.0     1/18/2020                  True   \n",
       "1081  Afghanistan  Gender Not known  35.0       No date      Not approximated   \n",
       "657        Taiwan            female  55.0     1/11/2020                  True   \n",
       "...           ...               ...   ...           ...                   ...   \n",
       "652   South Korea              male  62.0    02/02/2020                  True   \n",
       "653   South Korea              male  41.0       No date      Not approximated   \n",
       "654   South Korea              male  36.0       No date      Not approximated   \n",
       "655   South Korea            female  69.0       No date      Not approximated   \n",
       "656   South Korea              male  75.0       No date      Not approximated   \n",
       "\n",
       "     hosp_visit_date exposure_start exposure_end  visiting Wuhan  from Wuhan  \\\n",
       "197        1/23/2020        No date    1/22/2020               1         0.0   \n",
       "450        1/22/2020        No date    1/20/2020               0         1.0   \n",
       "543        1/19/2020        No date    1/19/2020               0         1.0   \n",
       "1081         No date        No date      No date               0         0.0   \n",
       "657        1/20/2020        No date    1/20/2020               1         0.0   \n",
       "...              ...            ...          ...             ...         ...   \n",
       "652       02/05/2020        No date      No date               0         0.0   \n",
       "653          No date        No date      No date               0         0.0   \n",
       "654          No date        No date      No date               0         0.0   \n",
       "655          No date        No date      No date               0         0.0   \n",
       "656          No date        No date      No date               0         0.0   \n",
       "\n",
       "          death   recovered                            symptom  \\\n",
       "197     No Date     No Date                     Not identified   \n",
       "450     No Date   2/19/2020                     Not identified   \n",
       "543     No Date  02/06/2020    high fever, chills, muscle pain   \n",
       "1081    No Date     No Date                     Not identified   \n",
       "657     No Date     No Date  fever, cough, shortness of breath   \n",
       "...         ...         ...                                ...   \n",
       "652     No Date     No Date                     Not identified   \n",
       "653   2/22/2020     No Date                     Not identified   \n",
       "654   2/25/2020     No Date                     Not identified   \n",
       "655     No Date     No Date                     Not identified   \n",
       "656   2/27/2020     No Date                     Not identified   \n",
       "\n",
       "                   source                                               link  \n",
       "197                  CNBC  https://www.cnbc.com/2020/01/25/reuters-americ...  \n",
       "450     Channel News Asia  https://www.channelnewsasia.com/news/singapore...  \n",
       "543   Nikkei Asian Review  https://asia.nikkei.com/Spotlight/Coronavirus-...  \n",
       "1081             Fox News  https://www.foxnews.com/health/afghanistan-fir...  \n",
       "657           Taiwan News      https://www.taiwannews.com.tw/en/news/3866002  \n",
       "...                   ...                                                ...  \n",
       "652                  KCDC  https://www.cdc.go.kr/board/board.es?mid=a3040...  \n",
       "653                  KCDC  https://www.cdc.go.kr/board/board.es?mid=a3040...  \n",
       "654                  KCDC  https://www.cdc.go.kr/board/board.es?mid=a3040...  \n",
       "655                  KCDC  https://www.cdc.go.kr/board/board.es?mid=a3040...  \n",
       "656                  KCDC  https://www.cdc.go.kr/board/board.es?mid=a3040...  \n",
       "\n",
       "[641 rows x 20 columns]"
      ]
     },
     "execution_count": 78,
     "metadata": {},
     "output_type": "execute_result"
    }
   ],
   "source": [
    "df"
   ]
  },
  {
   "cell_type": "code",
   "execution_count": null,
   "metadata": {},
   "outputs": [],
   "source": []
  },
  {
   "cell_type": "code",
   "execution_count": null,
   "metadata": {},
   "outputs": [],
   "source": []
  },
  {
   "cell_type": "code",
   "execution_count": 84,
   "metadata": {},
   "outputs": [],
   "source": [
    "df.to_excel(\"dataset1.xlsx\",sheet_name='Sheet_name_1')"
   ]
  },
  {
   "cell_type": "code",
   "execution_count": null,
   "metadata": {},
   "outputs": [],
   "source": []
  }
 ],
 "metadata": {
  "kernelspec": {
   "display_name": "Python 3",
   "language": "python",
   "name": "python3"
  },
  "language_info": {
   "codemirror_mode": {
    "name": "ipython",
    "version": 3
   },
   "file_extension": ".py",
   "mimetype": "text/x-python",
   "name": "python",
   "nbconvert_exporter": "python",
   "pygments_lexer": "ipython3",
   "version": "3.7.5"
  }
 },
 "nbformat": 4,
 "nbformat_minor": 2
}
